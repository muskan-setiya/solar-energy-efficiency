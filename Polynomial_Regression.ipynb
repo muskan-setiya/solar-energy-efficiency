{
 "cells": [
  {
   "cell_type": "code",
   "execution_count": 1,
   "id": "688006ca",
   "metadata": {
    "id": "688006ca"
   },
   "outputs": [],
   "source": [
    "import pandas as pd\n",
    "import numpy as np\n",
    "import matplotlib.pyplot as plt\n",
    "import seaborn as sns\n",
    "from sklearn.model_selection import train_test_split, RandomizedSearchCV\n",
    "from sklearn.metrics import mean_absolute_error, mean_squared_error, mean_absolute_percentage_error, r2_score\n",
    "from sklearn.ensemble import RandomForestRegressor \n",
    "from sklearn.linear_model import LinearRegression,SGDRegressor\n",
    "from sklearn.preprocessing import PolynomialFeatures,StandardScaler\n",
    "from sklearn.metrics import r2_score\n",
    "from sklearn.pipeline import Pipeline"
   ]
  },
  {
   "cell_type": "code",
   "execution_count": 3,
   "id": "Qrz849XD2EKa",
   "metadata": {
    "colab": {
     "base_uri": "https://localhost:8080/"
    },
    "id": "Qrz849XD2EKa",
    "outputId": "6a9f61bd-d601-4ab8-90a0-32822a24348f"
   },
   "outputs": [
    {
     "name": "stdout",
     "output_type": "stream",
     "text": [
      "Mounted at /content/drive\n"
     ]
    }
   ],
   "source": [
    "from google.colab import drive\n",
    "drive.mount('/content/drive')"
   ]
  },
  {
   "cell_type": "code",
   "execution_count": 2,
   "id": "40671705",
   "metadata": {
    "id": "40671705"
   },
   "outputs": [],
   "source": [
    "df=pd.read_csv(\"train.csv\")"
   ]
  },
  {
   "cell_type": "code",
   "execution_count": 3,
   "id": "bdcaa32b",
   "metadata": {
    "id": "bdcaa32b",
    "outputId": "170f68f2-a234-43ee-9999-33504bf90778"
   },
   "outputs": [
    {
     "data": {
      "text/plain": [
       "(210240, 16)"
      ]
     },
     "execution_count": 3,
     "metadata": {},
     "output_type": "execute_result"
    }
   ],
   "source": [
    "df.shape"
   ]
  },
  {
   "cell_type": "code",
   "execution_count": 5,
   "id": "5f139133",
   "metadata": {
    "id": "5f139133"
   },
   "outputs": [],
   "source": [
    "df1=df[:10000]"
   ]
  },
  {
   "cell_type": "code",
   "execution_count": 4,
   "id": "b0e4ad92",
   "metadata": {
    "id": "b0e4ad92",
    "outputId": "0335092e-2faf-4974-f8b5-8a48a45148ea"
   },
   "outputs": [
    {
     "data": {
      "text/html": [
       "<div>\n",
       "<style scoped>\n",
       "    .dataframe tbody tr th:only-of-type {\n",
       "        vertical-align: middle;\n",
       "    }\n",
       "\n",
       "    .dataframe tbody tr th {\n",
       "        vertical-align: top;\n",
       "    }\n",
       "\n",
       "    .dataframe thead th {\n",
       "        text-align: right;\n",
       "    }\n",
       "</style>\n",
       "<table border=\"1\" class=\"dataframe\">\n",
       "  <thead>\n",
       "    <tr style=\"text-align: right;\">\n",
       "      <th></th>\n",
       "      <th>Timestamp</th>\n",
       "      <th>Temperature</th>\n",
       "      <th>Dew Point</th>\n",
       "      <th>Surface Albedo</th>\n",
       "      <th>Pressure</th>\n",
       "      <th>Wind Direction</th>\n",
       "      <th>Wind Speed</th>\n",
       "      <th>Clearsky DHI</th>\n",
       "      <th>Clearsky DNI</th>\n",
       "      <th>Clearsky GHI</th>\n",
       "      <th>Fill Flag</th>\n",
       "      <th>Ozone</th>\n",
       "      <th>Cloud Type</th>\n",
       "      <th>Solar Zenith Angle</th>\n",
       "      <th>Precipitable Water</th>\n",
       "      <th>Relative Humidity</th>\n",
       "    </tr>\n",
       "  </thead>\n",
       "  <tbody>\n",
       "    <tr>\n",
       "      <th>0</th>\n",
       "      <td>01-01-2019 00:00</td>\n",
       "      <td>12.5</td>\n",
       "      <td>6.9</td>\n",
       "      <td>0.21</td>\n",
       "      <td>1005</td>\n",
       "      <td>121</td>\n",
       "      <td>1.0</td>\n",
       "      <td>0</td>\n",
       "      <td>0</td>\n",
       "      <td>0</td>\n",
       "      <td>0</td>\n",
       "      <td>0.258</td>\n",
       "      <td>1</td>\n",
       "      <td>173.92</td>\n",
       "      <td>1.4</td>\n",
       "      <td>68.82</td>\n",
       "    </tr>\n",
       "    <tr>\n",
       "      <th>1</th>\n",
       "      <td>01-01-2019 00:10</td>\n",
       "      <td>12.3</td>\n",
       "      <td>6.9</td>\n",
       "      <td>0.21</td>\n",
       "      <td>1005</td>\n",
       "      <td>122</td>\n",
       "      <td>1.0</td>\n",
       "      <td>0</td>\n",
       "      <td>0</td>\n",
       "      <td>0</td>\n",
       "      <td>0</td>\n",
       "      <td>0.258</td>\n",
       "      <td>1</td>\n",
       "      <td>171.79</td>\n",
       "      <td>1.3</td>\n",
       "      <td>69.73</td>\n",
       "    </tr>\n",
       "    <tr>\n",
       "      <th>2</th>\n",
       "      <td>01-01-2019 00:20</td>\n",
       "      <td>12.1</td>\n",
       "      <td>6.9</td>\n",
       "      <td>0.21</td>\n",
       "      <td>1005</td>\n",
       "      <td>124</td>\n",
       "      <td>1.0</td>\n",
       "      <td>0</td>\n",
       "      <td>0</td>\n",
       "      <td>0</td>\n",
       "      <td>0</td>\n",
       "      <td>0.258</td>\n",
       "      <td>1</td>\n",
       "      <td>169.59</td>\n",
       "      <td>1.3</td>\n",
       "      <td>70.65</td>\n",
       "    </tr>\n",
       "    <tr>\n",
       "      <th>3</th>\n",
       "      <td>01-01-2019 00:30</td>\n",
       "      <td>12.0</td>\n",
       "      <td>6.9</td>\n",
       "      <td>0.21</td>\n",
       "      <td>1005</td>\n",
       "      <td>125</td>\n",
       "      <td>1.0</td>\n",
       "      <td>0</td>\n",
       "      <td>0</td>\n",
       "      <td>0</td>\n",
       "      <td>0</td>\n",
       "      <td>0.258</td>\n",
       "      <td>1</td>\n",
       "      <td>167.37</td>\n",
       "      <td>1.3</td>\n",
       "      <td>71.11</td>\n",
       "    </tr>\n",
       "    <tr>\n",
       "      <th>4</th>\n",
       "      <td>01-01-2019 00:40</td>\n",
       "      <td>11.8</td>\n",
       "      <td>6.9</td>\n",
       "      <td>0.21</td>\n",
       "      <td>1005</td>\n",
       "      <td>126</td>\n",
       "      <td>1.0</td>\n",
       "      <td>0</td>\n",
       "      <td>0</td>\n",
       "      <td>0</td>\n",
       "      <td>0</td>\n",
       "      <td>0.258</td>\n",
       "      <td>1</td>\n",
       "      <td>165.13</td>\n",
       "      <td>1.3</td>\n",
       "      <td>71.91</td>\n",
       "    </tr>\n",
       "    <tr>\n",
       "      <th>5</th>\n",
       "      <td>01-01-2019 00:50</td>\n",
       "      <td>11.6</td>\n",
       "      <td>6.9</td>\n",
       "      <td>0.21</td>\n",
       "      <td>1005</td>\n",
       "      <td>128</td>\n",
       "      <td>1.0</td>\n",
       "      <td>0</td>\n",
       "      <td>0</td>\n",
       "      <td>0</td>\n",
       "      <td>0</td>\n",
       "      <td>0.258</td>\n",
       "      <td>1</td>\n",
       "      <td>162.89</td>\n",
       "      <td>1.3</td>\n",
       "      <td>72.87</td>\n",
       "    </tr>\n",
       "    <tr>\n",
       "      <th>6</th>\n",
       "      <td>01-01-2019 01:00</td>\n",
       "      <td>11.4</td>\n",
       "      <td>6.9</td>\n",
       "      <td>0.21</td>\n",
       "      <td>1005</td>\n",
       "      <td>129</td>\n",
       "      <td>1.0</td>\n",
       "      <td>0</td>\n",
       "      <td>0</td>\n",
       "      <td>0</td>\n",
       "      <td>0</td>\n",
       "      <td>0.258</td>\n",
       "      <td>1</td>\n",
       "      <td>160.63</td>\n",
       "      <td>1.3</td>\n",
       "      <td>73.83</td>\n",
       "    </tr>\n",
       "    <tr>\n",
       "      <th>7</th>\n",
       "      <td>01-01-2019 01:10</td>\n",
       "      <td>11.3</td>\n",
       "      <td>6.9</td>\n",
       "      <td>0.21</td>\n",
       "      <td>1005</td>\n",
       "      <td>131</td>\n",
       "      <td>1.0</td>\n",
       "      <td>0</td>\n",
       "      <td>0</td>\n",
       "      <td>0</td>\n",
       "      <td>0</td>\n",
       "      <td>0.258</td>\n",
       "      <td>1</td>\n",
       "      <td>158.38</td>\n",
       "      <td>1.3</td>\n",
       "      <td>74.32</td>\n",
       "    </tr>\n",
       "    <tr>\n",
       "      <th>8</th>\n",
       "      <td>01-01-2019 01:20</td>\n",
       "      <td>11.1</td>\n",
       "      <td>6.9</td>\n",
       "      <td>0.21</td>\n",
       "      <td>1005</td>\n",
       "      <td>133</td>\n",
       "      <td>1.0</td>\n",
       "      <td>0</td>\n",
       "      <td>0</td>\n",
       "      <td>0</td>\n",
       "      <td>0</td>\n",
       "      <td>0.258</td>\n",
       "      <td>1</td>\n",
       "      <td>156.12</td>\n",
       "      <td>1.3</td>\n",
       "      <td>75.31</td>\n",
       "    </tr>\n",
       "    <tr>\n",
       "      <th>9</th>\n",
       "      <td>01-01-2019 01:30</td>\n",
       "      <td>10.9</td>\n",
       "      <td>6.9</td>\n",
       "      <td>0.21</td>\n",
       "      <td>1004</td>\n",
       "      <td>135</td>\n",
       "      <td>1.1</td>\n",
       "      <td>0</td>\n",
       "      <td>0</td>\n",
       "      <td>0</td>\n",
       "      <td>0</td>\n",
       "      <td>0.258</td>\n",
       "      <td>1</td>\n",
       "      <td>153.87</td>\n",
       "      <td>1.3</td>\n",
       "      <td>76.24</td>\n",
       "    </tr>\n",
       "  </tbody>\n",
       "</table>\n",
       "</div>"
      ],
      "text/plain": [
       "          Timestamp  Temperature  Dew Point  Surface Albedo  Pressure  \\\n",
       "0  01-01-2019 00:00         12.5        6.9            0.21      1005   \n",
       "1  01-01-2019 00:10         12.3        6.9            0.21      1005   \n",
       "2  01-01-2019 00:20         12.1        6.9            0.21      1005   \n",
       "3  01-01-2019 00:30         12.0        6.9            0.21      1005   \n",
       "4  01-01-2019 00:40         11.8        6.9            0.21      1005   \n",
       "5  01-01-2019 00:50         11.6        6.9            0.21      1005   \n",
       "6  01-01-2019 01:00         11.4        6.9            0.21      1005   \n",
       "7  01-01-2019 01:10         11.3        6.9            0.21      1005   \n",
       "8  01-01-2019 01:20         11.1        6.9            0.21      1005   \n",
       "9  01-01-2019 01:30         10.9        6.9            0.21      1004   \n",
       "\n",
       "   Wind Direction  Wind Speed  Clearsky DHI  Clearsky DNI  Clearsky GHI  \\\n",
       "0             121         1.0             0             0             0   \n",
       "1             122         1.0             0             0             0   \n",
       "2             124         1.0             0             0             0   \n",
       "3             125         1.0             0             0             0   \n",
       "4             126         1.0             0             0             0   \n",
       "5             128         1.0             0             0             0   \n",
       "6             129         1.0             0             0             0   \n",
       "7             131         1.0             0             0             0   \n",
       "8             133         1.0             0             0             0   \n",
       "9             135         1.1             0             0             0   \n",
       "\n",
       "   Fill Flag  Ozone  Cloud Type  Solar Zenith Angle  Precipitable Water  \\\n",
       "0          0  0.258           1              173.92                 1.4   \n",
       "1          0  0.258           1              171.79                 1.3   \n",
       "2          0  0.258           1              169.59                 1.3   \n",
       "3          0  0.258           1              167.37                 1.3   \n",
       "4          0  0.258           1              165.13                 1.3   \n",
       "5          0  0.258           1              162.89                 1.3   \n",
       "6          0  0.258           1              160.63                 1.3   \n",
       "7          0  0.258           1              158.38                 1.3   \n",
       "8          0  0.258           1              156.12                 1.3   \n",
       "9          0  0.258           1              153.87                 1.3   \n",
       "\n",
       "   Relative Humidity  \n",
       "0              68.82  \n",
       "1              69.73  \n",
       "2              70.65  \n",
       "3              71.11  \n",
       "4              71.91  \n",
       "5              72.87  \n",
       "6              73.83  \n",
       "7              74.32  \n",
       "8              75.31  \n",
       "9              76.24  "
      ]
     },
     "execution_count": 4,
     "metadata": {},
     "output_type": "execute_result"
    }
   ],
   "source": [
    "df.head(10)"
   ]
  },
  {
   "cell_type": "code",
   "execution_count": 5,
   "id": "2417758c",
   "metadata": {
    "id": "2417758c",
    "outputId": "ad8a4741-7dd2-4a5e-c6b7-c06ea64e8da7"
   },
   "outputs": [
    {
     "name": "stdout",
     "output_type": "stream",
     "text": [
      "<class 'pandas.core.frame.DataFrame'>\n",
      "RangeIndex: 210240 entries, 0 to 210239\n",
      "Data columns (total 16 columns):\n",
      " #   Column              Non-Null Count   Dtype  \n",
      "---  ------              --------------   -----  \n",
      " 0   Timestamp           210240 non-null  object \n",
      " 1   Temperature         210240 non-null  float64\n",
      " 2   Dew Point           210240 non-null  float64\n",
      " 3   Surface Albedo      210240 non-null  float64\n",
      " 4   Pressure            210240 non-null  int64  \n",
      " 5   Wind Direction      210240 non-null  int64  \n",
      " 6   Wind Speed          210240 non-null  float64\n",
      " 7   Clearsky DHI        210240 non-null  int64  \n",
      " 8   Clearsky DNI        210240 non-null  int64  \n",
      " 9   Clearsky GHI        210240 non-null  int64  \n",
      " 10  Fill Flag           210240 non-null  int64  \n",
      " 11  Ozone               210240 non-null  float64\n",
      " 12  Cloud Type          210240 non-null  int64  \n",
      " 13  Solar Zenith Angle  210240 non-null  float64\n",
      " 14  Precipitable Water  210240 non-null  float64\n",
      " 15  Relative Humidity   210240 non-null  float64\n",
      "dtypes: float64(8), int64(7), object(1)\n",
      "memory usage: 25.7+ MB\n"
     ]
    }
   ],
   "source": [
    "df.info()"
   ]
  },
  {
   "cell_type": "code",
   "execution_count": null,
   "id": "bd2fa675",
   "metadata": {
    "id": "bd2fa675",
    "outputId": "5968e50d-31d6-4deb-d54b-04983525a30c"
   },
   "outputs": [
    {
     "data": {
      "text/plain": [
       "Timestamp             0\n",
       "Temperature           0\n",
       "Dew Point             0\n",
       "Surface Albedo        0\n",
       "Pressure              0\n",
       "Wind Direction        0\n",
       "Wind Speed            0\n",
       "Clearsky DHI          0\n",
       "Clearsky DNI          0\n",
       "Clearsky GHI          0\n",
       "Fill Flag             0\n",
       "Ozone                 0\n",
       "Cloud Type            0\n",
       "Solar Zenith Angle    0\n",
       "Precipitable Water    0\n",
       "Relative Humidity     0\n",
       "dtype: int64"
      ]
     },
     "execution_count": 127,
     "metadata": {},
     "output_type": "execute_result"
    }
   ],
   "source": [
    "df.isna().sum()"
   ]
  },
  {
   "cell_type": "code",
   "execution_count": null,
   "id": "dafb6375",
   "metadata": {
    "id": "dafb6375",
    "outputId": "20c68c7b-50ba-46e7-db1d-e9f037a74ce3"
   },
   "outputs": [
    {
     "data": {
      "text/html": [
       "<div>\n",
       "<style scoped>\n",
       "    .dataframe tbody tr th:only-of-type {\n",
       "        vertical-align: middle;\n",
       "    }\n",
       "\n",
       "    .dataframe tbody tr th {\n",
       "        vertical-align: top;\n",
       "    }\n",
       "\n",
       "    .dataframe thead th {\n",
       "        text-align: right;\n",
       "    }\n",
       "</style>\n",
       "<table border=\"1\" class=\"dataframe\">\n",
       "  <thead>\n",
       "    <tr style=\"text-align: right;\">\n",
       "      <th></th>\n",
       "      <th>Temperature</th>\n",
       "      <th>Dew Point</th>\n",
       "      <th>Surface Albedo</th>\n",
       "      <th>Pressure</th>\n",
       "      <th>Wind Direction</th>\n",
       "      <th>Wind Speed</th>\n",
       "      <th>Clearsky DHI</th>\n",
       "      <th>Clearsky DNI</th>\n",
       "      <th>Clearsky GHI</th>\n",
       "      <th>Fill Flag</th>\n",
       "      <th>Ozone</th>\n",
       "      <th>Cloud Type</th>\n",
       "      <th>Solar Zenith Angle</th>\n",
       "      <th>Precipitable Water</th>\n",
       "      <th>Relative Humidity</th>\n",
       "    </tr>\n",
       "  </thead>\n",
       "  <tbody>\n",
       "    <tr>\n",
       "      <th>count</th>\n",
       "      <td>210240.000000</td>\n",
       "      <td>210240.000000</td>\n",
       "      <td>210240.000000</td>\n",
       "      <td>210240.000000</td>\n",
       "      <td>210240.000000</td>\n",
       "      <td>210240.000000</td>\n",
       "      <td>210240.000000</td>\n",
       "      <td>210240.000000</td>\n",
       "      <td>210240.000000</td>\n",
       "      <td>210240.000000</td>\n",
       "      <td>210240.000000</td>\n",
       "      <td>210240.000000</td>\n",
       "      <td>210240.000000</td>\n",
       "      <td>210240.000000</td>\n",
       "      <td>210240.000000</td>\n",
       "    </tr>\n",
       "    <tr>\n",
       "      <th>mean</th>\n",
       "      <td>26.795495</td>\n",
       "      <td>13.447805</td>\n",
       "      <td>0.211623</td>\n",
       "      <td>996.856141</td>\n",
       "      <td>209.095453</td>\n",
       "      <td>1.918037</td>\n",
       "      <td>96.720681</td>\n",
       "      <td>225.098992</td>\n",
       "      <td>249.938537</td>\n",
       "      <td>0.288699</td>\n",
       "      <td>0.268813</td>\n",
       "      <td>2.513604</td>\n",
       "      <td>89.745758</td>\n",
       "      <td>3.377582</td>\n",
       "      <td>53.364443</td>\n",
       "    </tr>\n",
       "    <tr>\n",
       "      <th>std</th>\n",
       "      <td>8.639162</td>\n",
       "      <td>10.234861</td>\n",
       "      <td>0.020889</td>\n",
       "      <td>7.226820</td>\n",
       "      <td>101.616108</td>\n",
       "      <td>1.194954</td>\n",
       "      <td>120.334380</td>\n",
       "      <td>277.920322</td>\n",
       "      <td>325.049751</td>\n",
       "      <td>1.052178</td>\n",
       "      <td>0.015632</td>\n",
       "      <td>3.093565</td>\n",
       "      <td>42.852632</td>\n",
       "      <td>2.261960</td>\n",
       "      <td>29.692608</td>\n",
       "    </tr>\n",
       "    <tr>\n",
       "      <th>min</th>\n",
       "      <td>1.000000</td>\n",
       "      <td>-12.400000</td>\n",
       "      <td>0.170000</td>\n",
       "      <td>978.000000</td>\n",
       "      <td>0.000000</td>\n",
       "      <td>0.000000</td>\n",
       "      <td>0.000000</td>\n",
       "      <td>0.000000</td>\n",
       "      <td>0.000000</td>\n",
       "      <td>0.000000</td>\n",
       "      <td>0.217000</td>\n",
       "      <td>0.000000</td>\n",
       "      <td>2.210000</td>\n",
       "      <td>0.300000</td>\n",
       "      <td>4.100000</td>\n",
       "    </tr>\n",
       "    <tr>\n",
       "      <th>25%</th>\n",
       "      <td>20.800000</td>\n",
       "      <td>4.900000</td>\n",
       "      <td>0.200000</td>\n",
       "      <td>990.000000</td>\n",
       "      <td>109.000000</td>\n",
       "      <td>1.100000</td>\n",
       "      <td>0.000000</td>\n",
       "      <td>0.000000</td>\n",
       "      <td>0.000000</td>\n",
       "      <td>0.000000</td>\n",
       "      <td>0.259000</td>\n",
       "      <td>0.000000</td>\n",
       "      <td>53.140000</td>\n",
       "      <td>1.500000</td>\n",
       "      <td>25.540000</td>\n",
       "    </tr>\n",
       "    <tr>\n",
       "      <th>50%</th>\n",
       "      <td>27.300000</td>\n",
       "      <td>13.100000</td>\n",
       "      <td>0.200000</td>\n",
       "      <td>997.000000</td>\n",
       "      <td>248.000000</td>\n",
       "      <td>1.500000</td>\n",
       "      <td>0.000000</td>\n",
       "      <td>0.000000</td>\n",
       "      <td>0.000000</td>\n",
       "      <td>0.000000</td>\n",
       "      <td>0.270000</td>\n",
       "      <td>1.000000</td>\n",
       "      <td>89.400000</td>\n",
       "      <td>2.500000</td>\n",
       "      <td>51.210000</td>\n",
       "    </tr>\n",
       "    <tr>\n",
       "      <th>75%</th>\n",
       "      <td>32.200000</td>\n",
       "      <td>24.400000</td>\n",
       "      <td>0.230000</td>\n",
       "      <td>1003.000000</td>\n",
       "      <td>293.000000</td>\n",
       "      <td>2.500000</td>\n",
       "      <td>194.000000</td>\n",
       "      <td>486.000000</td>\n",
       "      <td>533.000000</td>\n",
       "      <td>0.000000</td>\n",
       "      <td>0.279000</td>\n",
       "      <td>6.000000</td>\n",
       "      <td>126.440000</td>\n",
       "      <td>5.700000</td>\n",
       "      <td>80.820000</td>\n",
       "    </tr>\n",
       "    <tr>\n",
       "      <th>max</th>\n",
       "      <td>48.900000</td>\n",
       "      <td>29.100000</td>\n",
       "      <td>0.260000</td>\n",
       "      <td>1013.000000</td>\n",
       "      <td>360.000000</td>\n",
       "      <td>9.500000</td>\n",
       "      <td>603.000000</td>\n",
       "      <td>1008.000000</td>\n",
       "      <td>1053.000000</td>\n",
       "      <td>5.000000</td>\n",
       "      <td>0.351000</td>\n",
       "      <td>9.000000</td>\n",
       "      <td>177.950000</td>\n",
       "      <td>8.900000</td>\n",
       "      <td>100.000000</td>\n",
       "    </tr>\n",
       "  </tbody>\n",
       "</table>\n",
       "</div>"
      ],
      "text/plain": [
       "         Temperature      Dew Point  Surface Albedo       Pressure   \n",
       "count  210240.000000  210240.000000   210240.000000  210240.000000  \\\n",
       "mean       26.795495      13.447805        0.211623     996.856141   \n",
       "std         8.639162      10.234861        0.020889       7.226820   \n",
       "min         1.000000     -12.400000        0.170000     978.000000   \n",
       "25%        20.800000       4.900000        0.200000     990.000000   \n",
       "50%        27.300000      13.100000        0.200000     997.000000   \n",
       "75%        32.200000      24.400000        0.230000    1003.000000   \n",
       "max        48.900000      29.100000        0.260000    1013.000000   \n",
       "\n",
       "       Wind Direction     Wind Speed   Clearsky DHI   Clearsky DNI   \n",
       "count   210240.000000  210240.000000  210240.000000  210240.000000  \\\n",
       "mean       209.095453       1.918037      96.720681     225.098992   \n",
       "std        101.616108       1.194954     120.334380     277.920322   \n",
       "min          0.000000       0.000000       0.000000       0.000000   \n",
       "25%        109.000000       1.100000       0.000000       0.000000   \n",
       "50%        248.000000       1.500000       0.000000       0.000000   \n",
       "75%        293.000000       2.500000     194.000000     486.000000   \n",
       "max        360.000000       9.500000     603.000000    1008.000000   \n",
       "\n",
       "        Clearsky GHI      Fill Flag          Ozone     Cloud Type   \n",
       "count  210240.000000  210240.000000  210240.000000  210240.000000  \\\n",
       "mean      249.938537       0.288699       0.268813       2.513604   \n",
       "std       325.049751       1.052178       0.015632       3.093565   \n",
       "min         0.000000       0.000000       0.217000       0.000000   \n",
       "25%         0.000000       0.000000       0.259000       0.000000   \n",
       "50%         0.000000       0.000000       0.270000       1.000000   \n",
       "75%       533.000000       0.000000       0.279000       6.000000   \n",
       "max      1053.000000       5.000000       0.351000       9.000000   \n",
       "\n",
       "       Solar Zenith Angle  Precipitable Water  Relative Humidity  \n",
       "count       210240.000000       210240.000000      210240.000000  \n",
       "mean            89.745758            3.377582          53.364443  \n",
       "std             42.852632            2.261960          29.692608  \n",
       "min              2.210000            0.300000           4.100000  \n",
       "25%             53.140000            1.500000          25.540000  \n",
       "50%             89.400000            2.500000          51.210000  \n",
       "75%            126.440000            5.700000          80.820000  \n",
       "max            177.950000            8.900000         100.000000  "
      ]
     },
     "execution_count": 128,
     "metadata": {},
     "output_type": "execute_result"
    }
   ],
   "source": [
    "df.describe()"
   ]
  },
  {
   "cell_type": "code",
   "execution_count": null,
   "id": "08324090",
   "metadata": {
    "id": "08324090",
    "outputId": "91d3ce54-5bcb-4ccc-db66-205657b116c5"
   },
   "outputs": [
    {
     "data": {
      "text/html": [
       "<div>\n",
       "<style scoped>\n",
       "    .dataframe tbody tr th:only-of-type {\n",
       "        vertical-align: middle;\n",
       "    }\n",
       "\n",
       "    .dataframe tbody tr th {\n",
       "        vertical-align: top;\n",
       "    }\n",
       "\n",
       "    .dataframe thead th {\n",
       "        text-align: right;\n",
       "    }\n",
       "</style>\n",
       "<table border=\"1\" class=\"dataframe\">\n",
       "  <thead>\n",
       "    <tr style=\"text-align: right;\">\n",
       "      <th></th>\n",
       "      <th>Temperature</th>\n",
       "      <th>Dew Point</th>\n",
       "      <th>Surface Albedo</th>\n",
       "      <th>Pressure</th>\n",
       "      <th>Wind Direction</th>\n",
       "      <th>Wind Speed</th>\n",
       "      <th>Clearsky DHI</th>\n",
       "      <th>Clearsky DNI</th>\n",
       "      <th>Clearsky GHI</th>\n",
       "      <th>Fill Flag</th>\n",
       "      <th>Ozone</th>\n",
       "      <th>Cloud Type</th>\n",
       "      <th>Solar Zenith Angle</th>\n",
       "      <th>Precipitable Water</th>\n",
       "      <th>Relative Humidity</th>\n",
       "    </tr>\n",
       "  </thead>\n",
       "  <tbody>\n",
       "    <tr>\n",
       "      <th>Temperature</th>\n",
       "      <td>1.000000</td>\n",
       "      <td>0.292697</td>\n",
       "      <td>0.596618</td>\n",
       "      <td>-0.714592</td>\n",
       "      <td>-0.046816</td>\n",
       "      <td>0.425250</td>\n",
       "      <td>0.523057</td>\n",
       "      <td>0.472487</td>\n",
       "      <td>0.540238</td>\n",
       "      <td>0.100625</td>\n",
       "      <td>0.553733</td>\n",
       "      <td>0.120401</td>\n",
       "      <td>-0.564038</td>\n",
       "      <td>0.411293</td>\n",
       "      <td>-0.356118</td>\n",
       "    </tr>\n",
       "    <tr>\n",
       "      <th>Dew Point</th>\n",
       "      <td>0.292697</td>\n",
       "      <td>1.000000</td>\n",
       "      <td>0.125001</td>\n",
       "      <td>-0.600056</td>\n",
       "      <td>-0.289789</td>\n",
       "      <td>0.083232</td>\n",
       "      <td>0.043487</td>\n",
       "      <td>0.011840</td>\n",
       "      <td>0.050812</td>\n",
       "      <td>0.146825</td>\n",
       "      <td>0.094705</td>\n",
       "      <td>0.542090</td>\n",
       "      <td>-0.108148</td>\n",
       "      <td>0.886361</td>\n",
       "      <td>0.749485</td>\n",
       "    </tr>\n",
       "    <tr>\n",
       "      <th>Surface Albedo</th>\n",
       "      <td>0.596618</td>\n",
       "      <td>0.125001</td>\n",
       "      <td>1.000000</td>\n",
       "      <td>-0.602828</td>\n",
       "      <td>-0.061984</td>\n",
       "      <td>0.326732</td>\n",
       "      <td>0.136141</td>\n",
       "      <td>0.029014</td>\n",
       "      <td>0.107675</td>\n",
       "      <td>0.064981</td>\n",
       "      <td>0.503839</td>\n",
       "      <td>0.096972</td>\n",
       "      <td>-0.165791</td>\n",
       "      <td>0.244229</td>\n",
       "      <td>-0.291906</td>\n",
       "    </tr>\n",
       "    <tr>\n",
       "      <th>Pressure</th>\n",
       "      <td>-0.714592</td>\n",
       "      <td>-0.600056</td>\n",
       "      <td>-0.602828</td>\n",
       "      <td>1.000000</td>\n",
       "      <td>0.192014</td>\n",
       "      <td>-0.341160</td>\n",
       "      <td>-0.097864</td>\n",
       "      <td>-0.063085</td>\n",
       "      <td>-0.124399</td>\n",
       "      <td>-0.127516</td>\n",
       "      <td>-0.518967</td>\n",
       "      <td>-0.426431</td>\n",
       "      <td>0.191856</td>\n",
       "      <td>-0.747911</td>\n",
       "      <td>-0.117146</td>\n",
       "    </tr>\n",
       "    <tr>\n",
       "      <th>Wind Direction</th>\n",
       "      <td>-0.046816</td>\n",
       "      <td>-0.289789</td>\n",
       "      <td>-0.061984</td>\n",
       "      <td>0.192014</td>\n",
       "      <td>1.000000</td>\n",
       "      <td>0.058592</td>\n",
       "      <td>0.115629</td>\n",
       "      <td>0.109398</td>\n",
       "      <td>0.100807</td>\n",
       "      <td>-0.068953</td>\n",
       "      <td>-0.061794</td>\n",
       "      <td>-0.218748</td>\n",
       "      <td>-0.097539</td>\n",
       "      <td>-0.295537</td>\n",
       "      <td>-0.214892</td>\n",
       "    </tr>\n",
       "    <tr>\n",
       "      <th>Wind Speed</th>\n",
       "      <td>0.425250</td>\n",
       "      <td>0.083232</td>\n",
       "      <td>0.326732</td>\n",
       "      <td>-0.341160</td>\n",
       "      <td>0.058592</td>\n",
       "      <td>1.000000</td>\n",
       "      <td>0.399801</td>\n",
       "      <td>0.458944</td>\n",
       "      <td>0.460741</td>\n",
       "      <td>0.059929</td>\n",
       "      <td>0.219860</td>\n",
       "      <td>0.076861</td>\n",
       "      <td>-0.447351</td>\n",
       "      <td>0.200612</td>\n",
       "      <td>-0.181200</td>\n",
       "    </tr>\n",
       "    <tr>\n",
       "      <th>Clearsky DHI</th>\n",
       "      <td>0.523057</td>\n",
       "      <td>0.043487</td>\n",
       "      <td>0.136141</td>\n",
       "      <td>-0.097864</td>\n",
       "      <td>0.115629</td>\n",
       "      <td>0.399801</td>\n",
       "      <td>1.000000</td>\n",
       "      <td>0.815847</td>\n",
       "      <td>0.911380</td>\n",
       "      <td>0.091770</td>\n",
       "      <td>0.096284</td>\n",
       "      <td>-0.048283</td>\n",
       "      <td>-0.860908</td>\n",
       "      <td>0.073124</td>\n",
       "      <td>-0.309436</td>\n",
       "    </tr>\n",
       "    <tr>\n",
       "      <th>Clearsky DNI</th>\n",
       "      <td>0.472487</td>\n",
       "      <td>0.011840</td>\n",
       "      <td>0.029014</td>\n",
       "      <td>-0.063085</td>\n",
       "      <td>0.109398</td>\n",
       "      <td>0.458944</td>\n",
       "      <td>0.815847</td>\n",
       "      <td>1.000000</td>\n",
       "      <td>0.949100</td>\n",
       "      <td>0.030883</td>\n",
       "      <td>0.044115</td>\n",
       "      <td>-0.050852</td>\n",
       "      <td>-0.864169</td>\n",
       "      <td>0.073328</td>\n",
       "      <td>-0.286987</td>\n",
       "    </tr>\n",
       "    <tr>\n",
       "      <th>Clearsky GHI</th>\n",
       "      <td>0.540238</td>\n",
       "      <td>0.050812</td>\n",
       "      <td>0.107675</td>\n",
       "      <td>-0.124399</td>\n",
       "      <td>0.100807</td>\n",
       "      <td>0.460741</td>\n",
       "      <td>0.911380</td>\n",
       "      <td>0.949100</td>\n",
       "      <td>1.000000</td>\n",
       "      <td>0.019399</td>\n",
       "      <td>0.097225</td>\n",
       "      <td>-0.030714</td>\n",
       "      <td>-0.887432</td>\n",
       "      <td>0.109841</td>\n",
       "      <td>-0.297871</td>\n",
       "    </tr>\n",
       "    <tr>\n",
       "      <th>Fill Flag</th>\n",
       "      <td>0.100625</td>\n",
       "      <td>0.146825</td>\n",
       "      <td>0.064981</td>\n",
       "      <td>-0.127516</td>\n",
       "      <td>-0.068953</td>\n",
       "      <td>0.059929</td>\n",
       "      <td>0.091770</td>\n",
       "      <td>0.030883</td>\n",
       "      <td>0.019399</td>\n",
       "      <td>1.000000</td>\n",
       "      <td>0.042986</td>\n",
       "      <td>0.269170</td>\n",
       "      <td>-0.131498</td>\n",
       "      <td>0.170982</td>\n",
       "      <td>0.065697</td>\n",
       "    </tr>\n",
       "    <tr>\n",
       "      <th>Ozone</th>\n",
       "      <td>0.553733</td>\n",
       "      <td>0.094705</td>\n",
       "      <td>0.503839</td>\n",
       "      <td>-0.518967</td>\n",
       "      <td>-0.061794</td>\n",
       "      <td>0.219860</td>\n",
       "      <td>0.096284</td>\n",
       "      <td>0.044115</td>\n",
       "      <td>0.097225</td>\n",
       "      <td>0.042986</td>\n",
       "      <td>1.000000</td>\n",
       "      <td>0.059791</td>\n",
       "      <td>-0.134068</td>\n",
       "      <td>0.217251</td>\n",
       "      <td>-0.260592</td>\n",
       "    </tr>\n",
       "    <tr>\n",
       "      <th>Cloud Type</th>\n",
       "      <td>0.120401</td>\n",
       "      <td>0.542090</td>\n",
       "      <td>0.096972</td>\n",
       "      <td>-0.426431</td>\n",
       "      <td>-0.218748</td>\n",
       "      <td>0.076861</td>\n",
       "      <td>-0.048283</td>\n",
       "      <td>-0.050852</td>\n",
       "      <td>-0.030714</td>\n",
       "      <td>0.269170</td>\n",
       "      <td>0.059791</td>\n",
       "      <td>1.000000</td>\n",
       "      <td>-0.001071</td>\n",
       "      <td>0.674560</td>\n",
       "      <td>0.450823</td>\n",
       "    </tr>\n",
       "    <tr>\n",
       "      <th>Solar Zenith Angle</th>\n",
       "      <td>-0.564038</td>\n",
       "      <td>-0.108148</td>\n",
       "      <td>-0.165791</td>\n",
       "      <td>0.191856</td>\n",
       "      <td>-0.097539</td>\n",
       "      <td>-0.447351</td>\n",
       "      <td>-0.860908</td>\n",
       "      <td>-0.864169</td>\n",
       "      <td>-0.887432</td>\n",
       "      <td>-0.131498</td>\n",
       "      <td>-0.134068</td>\n",
       "      <td>-0.001071</td>\n",
       "      <td>1.000000</td>\n",
       "      <td>-0.164655</td>\n",
       "      <td>0.268342</td>\n",
       "    </tr>\n",
       "    <tr>\n",
       "      <th>Precipitable Water</th>\n",
       "      <td>0.411293</td>\n",
       "      <td>0.886361</td>\n",
       "      <td>0.244229</td>\n",
       "      <td>-0.747911</td>\n",
       "      <td>-0.295537</td>\n",
       "      <td>0.200612</td>\n",
       "      <td>0.073124</td>\n",
       "      <td>0.073328</td>\n",
       "      <td>0.109841</td>\n",
       "      <td>0.170982</td>\n",
       "      <td>0.217251</td>\n",
       "      <td>0.674560</td>\n",
       "      <td>-0.164655</td>\n",
       "      <td>1.000000</td>\n",
       "      <td>0.584164</td>\n",
       "    </tr>\n",
       "    <tr>\n",
       "      <th>Relative Humidity</th>\n",
       "      <td>-0.356118</td>\n",
       "      <td>0.749485</td>\n",
       "      <td>-0.291906</td>\n",
       "      <td>-0.117146</td>\n",
       "      <td>-0.214892</td>\n",
       "      <td>-0.181200</td>\n",
       "      <td>-0.309436</td>\n",
       "      <td>-0.286987</td>\n",
       "      <td>-0.297871</td>\n",
       "      <td>0.065697</td>\n",
       "      <td>-0.260592</td>\n",
       "      <td>0.450823</td>\n",
       "      <td>0.268342</td>\n",
       "      <td>0.584164</td>\n",
       "      <td>1.000000</td>\n",
       "    </tr>\n",
       "  </tbody>\n",
       "</table>\n",
       "</div>"
      ],
      "text/plain": [
       "                    Temperature  Dew Point  Surface Albedo  Pressure   \n",
       "Temperature            1.000000   0.292697        0.596618 -0.714592  \\\n",
       "Dew Point              0.292697   1.000000        0.125001 -0.600056   \n",
       "Surface Albedo         0.596618   0.125001        1.000000 -0.602828   \n",
       "Pressure              -0.714592  -0.600056       -0.602828  1.000000   \n",
       "Wind Direction        -0.046816  -0.289789       -0.061984  0.192014   \n",
       "Wind Speed             0.425250   0.083232        0.326732 -0.341160   \n",
       "Clearsky DHI           0.523057   0.043487        0.136141 -0.097864   \n",
       "Clearsky DNI           0.472487   0.011840        0.029014 -0.063085   \n",
       "Clearsky GHI           0.540238   0.050812        0.107675 -0.124399   \n",
       "Fill Flag              0.100625   0.146825        0.064981 -0.127516   \n",
       "Ozone                  0.553733   0.094705        0.503839 -0.518967   \n",
       "Cloud Type             0.120401   0.542090        0.096972 -0.426431   \n",
       "Solar Zenith Angle    -0.564038  -0.108148       -0.165791  0.191856   \n",
       "Precipitable Water     0.411293   0.886361        0.244229 -0.747911   \n",
       "Relative Humidity     -0.356118   0.749485       -0.291906 -0.117146   \n",
       "\n",
       "                    Wind Direction  Wind Speed  Clearsky DHI  Clearsky DNI   \n",
       "Temperature              -0.046816    0.425250      0.523057      0.472487  \\\n",
       "Dew Point                -0.289789    0.083232      0.043487      0.011840   \n",
       "Surface Albedo           -0.061984    0.326732      0.136141      0.029014   \n",
       "Pressure                  0.192014   -0.341160     -0.097864     -0.063085   \n",
       "Wind Direction            1.000000    0.058592      0.115629      0.109398   \n",
       "Wind Speed                0.058592    1.000000      0.399801      0.458944   \n",
       "Clearsky DHI              0.115629    0.399801      1.000000      0.815847   \n",
       "Clearsky DNI              0.109398    0.458944      0.815847      1.000000   \n",
       "Clearsky GHI              0.100807    0.460741      0.911380      0.949100   \n",
       "Fill Flag                -0.068953    0.059929      0.091770      0.030883   \n",
       "Ozone                    -0.061794    0.219860      0.096284      0.044115   \n",
       "Cloud Type               -0.218748    0.076861     -0.048283     -0.050852   \n",
       "Solar Zenith Angle       -0.097539   -0.447351     -0.860908     -0.864169   \n",
       "Precipitable Water       -0.295537    0.200612      0.073124      0.073328   \n",
       "Relative Humidity        -0.214892   -0.181200     -0.309436     -0.286987   \n",
       "\n",
       "                    Clearsky GHI  Fill Flag     Ozone  Cloud Type   \n",
       "Temperature             0.540238   0.100625  0.553733    0.120401  \\\n",
       "Dew Point               0.050812   0.146825  0.094705    0.542090   \n",
       "Surface Albedo          0.107675   0.064981  0.503839    0.096972   \n",
       "Pressure               -0.124399  -0.127516 -0.518967   -0.426431   \n",
       "Wind Direction          0.100807  -0.068953 -0.061794   -0.218748   \n",
       "Wind Speed              0.460741   0.059929  0.219860    0.076861   \n",
       "Clearsky DHI            0.911380   0.091770  0.096284   -0.048283   \n",
       "Clearsky DNI            0.949100   0.030883  0.044115   -0.050852   \n",
       "Clearsky GHI            1.000000   0.019399  0.097225   -0.030714   \n",
       "Fill Flag               0.019399   1.000000  0.042986    0.269170   \n",
       "Ozone                   0.097225   0.042986  1.000000    0.059791   \n",
       "Cloud Type             -0.030714   0.269170  0.059791    1.000000   \n",
       "Solar Zenith Angle     -0.887432  -0.131498 -0.134068   -0.001071   \n",
       "Precipitable Water      0.109841   0.170982  0.217251    0.674560   \n",
       "Relative Humidity      -0.297871   0.065697 -0.260592    0.450823   \n",
       "\n",
       "                    Solar Zenith Angle  Precipitable Water  Relative Humidity  \n",
       "Temperature                  -0.564038            0.411293          -0.356118  \n",
       "Dew Point                    -0.108148            0.886361           0.749485  \n",
       "Surface Albedo               -0.165791            0.244229          -0.291906  \n",
       "Pressure                      0.191856           -0.747911          -0.117146  \n",
       "Wind Direction               -0.097539           -0.295537          -0.214892  \n",
       "Wind Speed                   -0.447351            0.200612          -0.181200  \n",
       "Clearsky DHI                 -0.860908            0.073124          -0.309436  \n",
       "Clearsky DNI                 -0.864169            0.073328          -0.286987  \n",
       "Clearsky GHI                 -0.887432            0.109841          -0.297871  \n",
       "Fill Flag                    -0.131498            0.170982           0.065697  \n",
       "Ozone                        -0.134068            0.217251          -0.260592  \n",
       "Cloud Type                   -0.001071            0.674560           0.450823  \n",
       "Solar Zenith Angle            1.000000           -0.164655           0.268342  \n",
       "Precipitable Water           -0.164655            1.000000           0.584164  \n",
       "Relative Humidity             0.268342            0.584164           1.000000  "
      ]
     },
     "execution_count": 129,
     "metadata": {},
     "output_type": "execute_result"
    }
   ],
   "source": [
    "df_corr = df[['Temperature', 'Dew Point', 'Surface Albedo', 'Pressure',\n",
    "       'Wind Direction', 'Wind Speed', 'Clearsky DHI', 'Clearsky DNI',\n",
    "       'Clearsky GHI', 'Fill Flag', 'Ozone', 'Cloud Type',\n",
    "       'Solar Zenith Angle', 'Precipitable Water', 'Relative Humidity']].corr()\n",
    "df_corr"
   ]
  },
  {
   "cell_type": "code",
   "execution_count": null,
   "id": "67566faf",
   "metadata": {
    "id": "67566faf"
   },
   "outputs": [],
   "source": [
    "mask = np.triu(np.ones_like(df_corr, dtype=bool))"
   ]
  },
  {
   "cell_type": "code",
   "execution_count": null,
   "id": "7712ee1d",
   "metadata": {
    "id": "7712ee1d",
    "outputId": "b2dc2cf2-492a-4558-b6aa-83b2af5883f4"
   },
   "outputs": [
    {
     "data": {
      "image/png": "[encoded data removed]",
      "text/plain": [
       "<Figure size 1100x900 with 2 Axes>"
      ]
     },
     "metadata": {},
     "output_type": "display_data"
    }
   ],
   "source": [
    "f, ax = plt.subplots(figsize=(11, 9))\n",
    "sns.heatmap(df_corr, mask=mask, cmap='jet', vmax=.3, center=0, annot=True, fmt='.2f',\n",
    "            square=True, linewidths=.5, cbar_kws={\"shrink\": .8});\n",
    "plt.title('Correlation analysis for all sites');"
   ]
  },
  {
   "cell_type": "code",
   "execution_count": null,
   "id": "0ec8c93f",
   "metadata": {
    "id": "0ec8c93f"
   },
   "outputs": [],
   "source": [
    "#Feature Selection"
   ]
  },
  {
   "cell_type": "code",
   "execution_count": 7,
   "id": "71def2a1",
   "metadata": {
    "id": "71def2a1"
   },
   "outputs": [],
   "source": [
    "selected_columns = ['Temperature', 'Surface Albedo', 'Pressure',\n",
    "       'Wind Direction', 'Wind Speed', 'Clearsky DHI', 'Clearsky DNI',\n",
    "       'Clearsky GHI', 'Ozone',\n",
    "       'Solar Zenith Angle', 'Precipitable Water', 'Relative Humidity']\n",
    "\n",
    "\n",
    "df_processed = df[selected_columns].reset_index(drop=True)"
   ]
  },
  {
   "cell_type": "code",
   "execution_count": 8,
   "id": "2430ac1a",
   "metadata": {
    "colab": {
     "base_uri": "https://localhost:8080/",
     "height": 363
    },
    "id": "2430ac1a",
    "outputId": "9e2f4313-1d42-4b80-9de3-fe2eafbe75de"
   },
   "outputs": [
    {
     "data": {
      "text/html": [
       "<div>\n",
       "<style scoped>\n",
       "    .dataframe tbody tr th:only-of-type {\n",
       "        vertical-align: middle;\n",
       "    }\n",
       "\n",
       "    .dataframe tbody tr th {\n",
       "        vertical-align: top;\n",
       "    }\n",
       "\n",
       "    .dataframe thead th {\n",
       "        text-align: right;\n",
       "    }\n",
       "</style>\n",
       "<table border=\"1\" class=\"dataframe\">\n",
       "  <thead>\n",
       "    <tr style=\"text-align: right;\">\n",
       "      <th></th>\n",
       "      <th>Temperature</th>\n",
       "      <th>Surface Albedo</th>\n",
       "      <th>Pressure</th>\n",
       "      <th>Wind Direction</th>\n",
       "      <th>Wind Speed</th>\n",
       "      <th>Clearsky DHI</th>\n",
       "      <th>Clearsky DNI</th>\n",
       "      <th>Clearsky GHI</th>\n",
       "      <th>Ozone</th>\n",
       "      <th>Solar Zenith Angle</th>\n",
       "      <th>Precipitable Water</th>\n",
       "      <th>Relative Humidity</th>\n",
       "    </tr>\n",
       "  </thead>\n",
       "  <tbody>\n",
       "    <tr>\n",
       "      <th>0</th>\n",
       "      <td>12.5</td>\n",
       "      <td>0.21</td>\n",
       "      <td>1005</td>\n",
       "      <td>121</td>\n",
       "      <td>1.0</td>\n",
       "      <td>0</td>\n",
       "      <td>0</td>\n",
       "      <td>0</td>\n",
       "      <td>0.258</td>\n",
       "      <td>173.92</td>\n",
       "      <td>1.4</td>\n",
       "      <td>68.82</td>\n",
       "    </tr>\n",
       "    <tr>\n",
       "      <th>1</th>\n",
       "      <td>12.3</td>\n",
       "      <td>0.21</td>\n",
       "      <td>1005</td>\n",
       "      <td>122</td>\n",
       "      <td>1.0</td>\n",
       "      <td>0</td>\n",
       "      <td>0</td>\n",
       "      <td>0</td>\n",
       "      <td>0.258</td>\n",
       "      <td>171.79</td>\n",
       "      <td>1.3</td>\n",
       "      <td>69.73</td>\n",
       "    </tr>\n",
       "    <tr>\n",
       "      <th>2</th>\n",
       "      <td>12.1</td>\n",
       "      <td>0.21</td>\n",
       "      <td>1005</td>\n",
       "      <td>124</td>\n",
       "      <td>1.0</td>\n",
       "      <td>0</td>\n",
       "      <td>0</td>\n",
       "      <td>0</td>\n",
       "      <td>0.258</td>\n",
       "      <td>169.59</td>\n",
       "      <td>1.3</td>\n",
       "      <td>70.65</td>\n",
       "    </tr>\n",
       "    <tr>\n",
       "      <th>3</th>\n",
       "      <td>12.0</td>\n",
       "      <td>0.21</td>\n",
       "      <td>1005</td>\n",
       "      <td>125</td>\n",
       "      <td>1.0</td>\n",
       "      <td>0</td>\n",
       "      <td>0</td>\n",
       "      <td>0</td>\n",
       "      <td>0.258</td>\n",
       "      <td>167.37</td>\n",
       "      <td>1.3</td>\n",
       "      <td>71.11</td>\n",
       "    </tr>\n",
       "    <tr>\n",
       "      <th>4</th>\n",
       "      <td>11.8</td>\n",
       "      <td>0.21</td>\n",
       "      <td>1005</td>\n",
       "      <td>126</td>\n",
       "      <td>1.0</td>\n",
       "      <td>0</td>\n",
       "      <td>0</td>\n",
       "      <td>0</td>\n",
       "      <td>0.258</td>\n",
       "      <td>165.13</td>\n",
       "      <td>1.3</td>\n",
       "      <td>71.91</td>\n",
       "    </tr>\n",
       "    <tr>\n",
       "      <th>5</th>\n",
       "      <td>11.6</td>\n",
       "      <td>0.21</td>\n",
       "      <td>1005</td>\n",
       "      <td>128</td>\n",
       "      <td>1.0</td>\n",
       "      <td>0</td>\n",
       "      <td>0</td>\n",
       "      <td>0</td>\n",
       "      <td>0.258</td>\n",
       "      <td>162.89</td>\n",
       "      <td>1.3</td>\n",
       "      <td>72.87</td>\n",
       "    </tr>\n",
       "    <tr>\n",
       "      <th>6</th>\n",
       "      <td>11.4</td>\n",
       "      <td>0.21</td>\n",
       "      <td>1005</td>\n",
       "      <td>129</td>\n",
       "      <td>1.0</td>\n",
       "      <td>0</td>\n",
       "      <td>0</td>\n",
       "      <td>0</td>\n",
       "      <td>0.258</td>\n",
       "      <td>160.63</td>\n",
       "      <td>1.3</td>\n",
       "      <td>73.83</td>\n",
       "    </tr>\n",
       "    <tr>\n",
       "      <th>7</th>\n",
       "      <td>11.3</td>\n",
       "      <td>0.21</td>\n",
       "      <td>1005</td>\n",
       "      <td>131</td>\n",
       "      <td>1.0</td>\n",
       "      <td>0</td>\n",
       "      <td>0</td>\n",
       "      <td>0</td>\n",
       "      <td>0.258</td>\n",
       "      <td>158.38</td>\n",
       "      <td>1.3</td>\n",
       "      <td>74.32</td>\n",
       "    </tr>\n",
       "    <tr>\n",
       "      <th>8</th>\n",
       "      <td>11.1</td>\n",
       "      <td>0.21</td>\n",
       "      <td>1005</td>\n",
       "      <td>133</td>\n",
       "      <td>1.0</td>\n",
       "      <td>0</td>\n",
       "      <td>0</td>\n",
       "      <td>0</td>\n",
       "      <td>0.258</td>\n",
       "      <td>156.12</td>\n",
       "      <td>1.3</td>\n",
       "      <td>75.31</td>\n",
       "    </tr>\n",
       "    <tr>\n",
       "      <th>9</th>\n",
       "      <td>10.9</td>\n",
       "      <td>0.21</td>\n",
       "      <td>1004</td>\n",
       "      <td>135</td>\n",
       "      <td>1.1</td>\n",
       "      <td>0</td>\n",
       "      <td>0</td>\n",
       "      <td>0</td>\n",
       "      <td>0.258</td>\n",
       "      <td>153.87</td>\n",
       "      <td>1.3</td>\n",
       "      <td>76.24</td>\n",
       "    </tr>\n",
       "  </tbody>\n",
       "</table>\n",
       "</div>"
      ],
      "text/plain": [
       "   Temperature  Surface Albedo  Pressure  Wind Direction  Wind Speed  \\\n",
       "0         12.5            0.21      1005             121         1.0   \n",
       "1         12.3            0.21      1005             122         1.0   \n",
       "2         12.1            0.21      1005             124         1.0   \n",
       "3         12.0            0.21      1005             125         1.0   \n",
       "4         11.8            0.21      1005             126         1.0   \n",
       "5         11.6            0.21      1005             128         1.0   \n",
       "6         11.4            0.21      1005             129         1.0   \n",
       "7         11.3            0.21      1005             131         1.0   \n",
       "8         11.1            0.21      1005             133         1.0   \n",
       "9         10.9            0.21      1004             135         1.1   \n",
       "\n",
       "   Clearsky DHI  Clearsky DNI  Clearsky GHI  Ozone  Solar Zenith Angle  \\\n",
       "0             0             0             0  0.258              173.92   \n",
       "1             0             0             0  0.258              171.79   \n",
       "2             0             0             0  0.258              169.59   \n",
       "3             0             0             0  0.258              167.37   \n",
       "4             0             0             0  0.258              165.13   \n",
       "5             0             0             0  0.258              162.89   \n",
       "6             0             0             0  0.258              160.63   \n",
       "7             0             0             0  0.258              158.38   \n",
       "8             0             0             0  0.258              156.12   \n",
       "9             0             0             0  0.258              153.87   \n",
       "\n",
       "   Precipitable Water  Relative Humidity  \n",
       "0                 1.4              68.82  \n",
       "1                 1.3              69.73  \n",
       "2                 1.3              70.65  \n",
       "3                 1.3              71.11  \n",
       "4                 1.3              71.91  \n",
       "5                 1.3              72.87  \n",
       "6                 1.3              73.83  \n",
       "7                 1.3              74.32  \n",
       "8                 1.3              75.31  \n",
       "9                 1.3              76.24  "
      ]
     },
     "execution_count": 8,
     "metadata": {},
     "output_type": "execute_result"
    }
   ],
   "source": [
    "df_processed.head(10)"
   ]
  },
  {
   "cell_type": "code",
   "execution_count": 9,
   "id": "7c040f83",
   "metadata": {
    "colab": {
     "base_uri": "https://localhost:8080/"
    },
    "id": "7c040f83",
    "outputId": "fe4ed5e9-3ec5-46f7-c6e2-4644ff0619a9"
   },
   "outputs": [
    {
     "data": {
      "text/plain": [
       "['Relative Humidity',\n",
       " 'Wind Speed',\n",
       " 'Solar Zenith Angle',\n",
       " 'Surface Albedo',\n",
       " 'Pressure',\n",
       " 'Ozone',\n",
       " 'Precipitable Water',\n",
       " 'Wind Direction',\n",
       " 'Temperature']"
      ]
     },
     "execution_count": 9,
     "metadata": {},
     "output_type": "execute_result"
    }
   ],
   "source": [
    "#target values\n",
    "target_label = ['Clearsky DHI','Clearsky GHI','Clearsky DNI']\n",
    "\n",
    "input_features = list(set(selected_columns).difference(set(target_label)))\n",
    "input_features"
   ]
  },
  {
   "cell_type": "code",
   "execution_count": 10,
   "id": "d7840e88",
   "metadata": {
    "id": "d7840e88"
   },
   "outputs": [],
   "source": [
    "df_X = df_processed[input_features].reset_index(drop=True)\n",
    "df_y = df_processed[target_label]"
   ]
  },
  {
   "cell_type": "code",
   "execution_count": 11,
   "id": "395c3b78",
   "metadata": {
    "id": "395c3b78"
   },
   "outputs": [],
   "source": [
    "X_train, X_test, y_train, y_test = train_test_split(df_X, df_y, test_size=0.2, random_state=42)"
   ]
  },
  {
   "cell_type": "code",
   "execution_count": 12,
   "id": "06cbfca5",
   "metadata": {
    "colab": {
     "base_uri": "https://localhost:8080/"
    },
    "id": "06cbfca5",
    "outputId": "dc0d240e-85a0-45a2-b67d-ff2bbc781340"
   },
   "outputs": [
    {
     "name": "stdout",
     "output_type": "stream",
     "text": [
      "(168192, 9) (168192, 3)\n"
     ]
    }
   ],
   "source": [
    "print(X_train.shape, y_train.shape)"
   ]
  },
  {
   "cell_type": "code",
   "execution_count": 13,
   "id": "f686c55b",
   "metadata": {
    "colab": {
     "base_uri": "https://localhost:8080/"
    },
    "id": "f686c55b",
    "outputId": "08ed1ef6-db08-4d5a-d908-f136ae0cec76"
   },
   "outputs": [
    {
     "name": "stdout",
     "output_type": "stream",
     "text": [
      "(42048, 9) (42048, 3)\n"
     ]
    }
   ],
   "source": [
    "print(X_test.shape, y_test.shape)"
   ]
  },
  {
   "cell_type": "code",
   "execution_count": 14,
   "id": "w__r4wy6dcC7",
   "metadata": {
    "colab": {
     "base_uri": "https://localhost:8080/"
    },
    "id": "w__r4wy6dcC7",
    "outputId": "1516453c-9062-482f-c92c-ef222d0a4d16"
   },
   "outputs": [
    {
     "name": "stdout",
     "output_type": "stream",
     "text": [
      "[[1.00000e+00 1.00000e+02 1.20000e+00 ... 2.10250e+04 3.87150e+03\n",
      "  7.12890e+02]\n",
      " [1.00000e+00 9.80600e+01 2.60000e+00 ... 6.00250e+04 6.59050e+03\n",
      "  7.23610e+02]\n",
      " [1.00000e+00 5.60000e+01 1.30000e+00 ... 6.25000e+02 8.10000e+02\n",
      "  1.04976e+03]\n",
      " ...\n",
      " [1.00000e+00 9.87000e+01 2.60000e+00 ... 7.07560e+04 4.33580e+03\n",
      "  2.65690e+02]\n",
      " [1.00000e+00 8.20900e+01 3.10000e+00 ... 7.18240e+04 8.25440e+03\n",
      "  9.48640e+02]\n",
      " [1.00000e+00 1.46700e+01 1.20000e+00 ... 8.23690e+04 7.94990e+03\n",
      "  7.67290e+02]]\n"
     ]
    }
   ],
   "source": [
    "poly = PolynomialFeatures(degree=2)\n",
    "X_transformed = poly.fit_transform(X_train)\n",
    "X_test_transformed = poly.fit_transform(X_test)\n",
    "print(X_test_transformed)"
   ]
  },
  {
   "cell_type": "code",
   "execution_count": 15,
   "id": "EMiZQutBdb9g",
   "metadata": {
    "colab": {
     "base_uri": "https://localhost:8080/"
    },
    "id": "EMiZQutBdb9g",
    "outputId": "c5124f63-e297-4545-b6ba-d079a94570a9"
   },
   "outputs": [
    {
     "name": "stdout",
     "output_type": "stream",
     "text": [
      "Input 9\n",
      "Ouput 55\n",
      "Powers\n",
      " [[0 0 0 0 0 0 0 0 0]\n",
      " [1 0 0 0 0 0 0 0 0]\n",
      " [0 1 0 0 0 0 0 0 0]\n",
      " [0 0 1 0 0 0 0 0 0]\n",
      " [0 0 0 1 0 0 0 0 0]\n",
      " [0 0 0 0 1 0 0 0 0]\n",
      " [0 0 0 0 0 1 0 0 0]\n",
      " [0 0 0 0 0 0 1 0 0]\n",
      " [0 0 0 0 0 0 0 1 0]\n",
      " [0 0 0 0 0 0 0 0 1]\n",
      " [2 0 0 0 0 0 0 0 0]\n",
      " [1 1 0 0 0 0 0 0 0]\n",
      " [1 0 1 0 0 0 0 0 0]\n",
      " [1 0 0 1 0 0 0 0 0]\n",
      " [1 0 0 0 1 0 0 0 0]\n",
      " [1 0 0 0 0 1 0 0 0]\n",
      " [1 0 0 0 0 0 1 0 0]\n",
      " [1 0 0 0 0 0 0 1 0]\n",
      " [1 0 0 0 0 0 0 0 1]\n",
      " [0 2 0 0 0 0 0 0 0]\n",
      " [0 1 1 0 0 0 0 0 0]\n",
      " [0 1 0 1 0 0 0 0 0]\n",
      " [0 1 0 0 1 0 0 0 0]\n",
      " [0 1 0 0 0 1 0 0 0]\n",
      " [0 1 0 0 0 0 1 0 0]\n",
      " [0 1 0 0 0 0 0 1 0]\n",
      " [0 1 0 0 0 0 0 0 1]\n",
      " [0 0 2 0 0 0 0 0 0]\n",
      " [0 0 1 1 0 0 0 0 0]\n",
      " [0 0 1 0 1 0 0 0 0]\n",
      " [0 0 1 0 0 1 0 0 0]\n",
      " [0 0 1 0 0 0 1 0 0]\n",
      " [0 0 1 0 0 0 0 1 0]\n",
      " [0 0 1 0 0 0 0 0 1]\n",
      " [0 0 0 2 0 0 0 0 0]\n",
      " [0 0 0 1 1 0 0 0 0]\n",
      " [0 0 0 1 0 1 0 0 0]\n",
      " [0 0 0 1 0 0 1 0 0]\n",
      " [0 0 0 1 0 0 0 1 0]\n",
      " [0 0 0 1 0 0 0 0 1]\n",
      " [0 0 0 0 2 0 0 0 0]\n",
      " [0 0 0 0 1 1 0 0 0]\n",
      " [0 0 0 0 1 0 1 0 0]\n",
      " [0 0 0 0 1 0 0 1 0]\n",
      " [0 0 0 0 1 0 0 0 1]\n",
      " [0 0 0 0 0 2 0 0 0]\n",
      " [0 0 0 0 0 1 1 0 0]\n",
      " [0 0 0 0 0 1 0 1 0]\n",
      " [0 0 0 0 0 1 0 0 1]\n",
      " [0 0 0 0 0 0 2 0 0]\n",
      " [0 0 0 0 0 0 1 1 0]\n",
      " [0 0 0 0 0 0 1 0 1]\n",
      " [0 0 0 0 0 0 0 2 0]\n",
      " [0 0 0 0 0 0 0 1 1]\n",
      " [0 0 0 0 0 0 0 0 2]]\n"
     ]
    }
   ],
   "source": [
    "print(\"Input\",poly.n_features_in_)\n",
    "print(\"Ouput\",poly.n_output_features_)\n",
    "print(\"Powers\\n\",poly.powers_)"
   ]
  },
  {
   "cell_type": "code",
   "execution_count": 16,
   "id": "MuQFllqqdb5K",
   "metadata": {
    "colab": {
     "base_uri": "https://localhost:8080/"
    },
    "id": "MuQFllqqdb5K",
    "outputId": "667d1b9c-be75-42bd-b80b-26cabe7970ee"
   },
   "outputs": [
    {
     "data": {
      "text/plain": [
       "(168192, 55)"
      ]
     },
     "execution_count": 16,
     "metadata": {},
     "output_type": "execute_result"
    }
   ],
   "source": [
    "X_transformed.shape"
   ]
  },
  {
   "cell_type": "code",
   "execution_count": 17,
   "id": "8nr8TrYKdb0m",
   "metadata": {
    "colab": {
     "base_uri": "https://localhost:8080/",
     "height": 74
    },
    "id": "8nr8TrYKdb0m",
    "outputId": "9657d32d-fdf8-4ba0-eec1-2f59b7821855"
   },
   "outputs": [
    {
     "data": {
      "text/html": [
       "<style>#sk-container-id-1 {color: black;background-color: white;}#sk-container-id-1 pre{padding: 0;}#sk-container-id-1 div.sk-toggleable {background-color: white;}#sk-container-id-1 label.sk-toggleable__label {cursor: pointer;display: block;width: 100%;margin-bottom: 0;padding: 0.3em;box-sizing: border-box;text-align: center;}#sk-container-id-1 label.sk-toggleable__label-arrow:before {content: \"▸\";float: left;margin-right: 0.25em;color: #696969;}#sk-container-id-1 label.sk-toggleable__label-arrow:hover:before {color: black;}#sk-container-id-1 div.sk-estimator:hover label.sk-toggleable__label-arrow:before {color: black;}#sk-container-id-1 div.sk-toggleable__content {max-height: 0;max-width: 0;overflow: hidden;text-align: left;background-color: #f0f8ff;}#sk-container-id-1 div.sk-toggleable__content pre {margin: 0.2em;color: black;border-radius: 0.25em;background-color: #f0f8ff;}#sk-container-id-1 input.sk-toggleable__control:checked~div.sk-toggleable__content {max-height: 200px;max-width: 100%;overflow: auto;}#sk-container-id-1 input.sk-toggleable__control:checked~label.sk-toggleable__label-arrow:before {content: \"▾\";}#sk-container-id-1 div.sk-estimator input.sk-toggleable__control:checked~label.sk-toggleable__label {background-color: #d4ebff;}#sk-container-id-1 div.sk-label input.sk-toggleable__control:checked~label.sk-toggleable__label {background-color: #d4ebff;}#sk-container-id-1 input.sk-hidden--visually {border: 0;clip: rect(1px 1px 1px 1px);clip: rect(1px, 1px, 1px, 1px);height: 1px;margin: -1px;overflow: hidden;padding: 0;position: absolute;width: 1px;}#sk-container-id-1 div.sk-estimator {font-family: monospace;background-color: #f0f8ff;border: 1px dotted black;border-radius: 0.25em;box-sizing: border-box;margin-bottom: 0.5em;}#sk-container-id-1 div.sk-estimator:hover {background-color: #d4ebff;}#sk-container-id-1 div.sk-parallel-item::after {content: \"\";width: 100%;border-bottom: 1px solid gray;flex-grow: 1;}#sk-container-id-1 div.sk-label:hover label.sk-toggleable__label {background-color: #d4ebff;}#sk-container-id-1 div.sk-serial::before {content: \"\";position: absolute;border-left: 1px solid gray;box-sizing: border-box;top: 0;bottom: 0;left: 50%;z-index: 0;}#sk-container-id-1 div.sk-serial {display: flex;flex-direction: column;align-items: center;background-color: white;padding-right: 0.2em;padding-left: 0.2em;position: relative;}#sk-container-id-1 div.sk-item {position: relative;z-index: 1;}#sk-container-id-1 div.sk-parallel {display: flex;align-items: stretch;justify-content: center;background-color: white;position: relative;}#sk-container-id-1 div.sk-item::before, #sk-container-id-1 div.sk-parallel-item::before {content: \"\";position: absolute;border-left: 1px solid gray;box-sizing: border-box;top: 0;bottom: 0;left: 50%;z-index: -1;}#sk-container-id-1 div.sk-parallel-item {display: flex;flex-direction: column;z-index: 1;position: relative;background-color: white;}#sk-container-id-1 div.sk-parallel-item:first-child::after {align-self: flex-end;width: 50%;}#sk-container-id-1 div.sk-parallel-item:last-child::after {align-self: flex-start;width: 50%;}#sk-container-id-1 div.sk-parallel-item:only-child::after {width: 0;}#sk-container-id-1 div.sk-dashed-wrapped {border: 1px dashed gray;margin: 0 0.4em 0.5em 0.4em;box-sizing: border-box;padding-bottom: 0.4em;background-color: white;}#sk-container-id-1 div.sk-label label {font-family: monospace;font-weight: bold;display: inline-block;line-height: 1.2em;}#sk-container-id-1 div.sk-label-container {text-align: center;}#sk-container-id-1 div.sk-container {/* jupyter's `normalize.less` sets `[hidden] { display: none; }` but bootstrap.min.css set `[hidden] { display: none !important; }` so we also need the `!important` here to be able to override the default hidden behavior on the sphinx rendered scikit-learn.org. See: https://github.com/scikit-learn/scikit-learn/issues/21755 */display: inline-block !important;position: relative;}#sk-container-id-1 div.sk-text-repr-fallback {display: none;}</style><div id=\"sk-container-id-1\" class=\"sk-top-container\"><div class=\"sk-text-repr-fallback\"><pre>LinearRegression()</pre><b>In a Jupyter environment, please rerun this cell to show the HTML representation or trust the notebook. <br />On GitHub, the HTML representation is unable to render, please try loading this page with nbviewer.org.</b></div><div class=\"sk-container\" hidden><div class=\"sk-item\"><div class=\"sk-estimator sk-toggleable\"><input class=\"sk-toggleable__control sk-hidden--visually\" id=\"sk-estimator-id-1\" type=\"checkbox\" checked><label for=\"sk-estimator-id-1\" class=\"sk-toggleable__label sk-toggleable__label-arrow\">LinearRegression</label><div class=\"sk-toggleable__content\"><pre>LinearRegression()</pre></div></div></div></div></div>"
      ],
      "text/plain": [
       "LinearRegression()"
      ]
     },
     "execution_count": 17,
     "metadata": {},
     "output_type": "execute_result"
    }
   ],
   "source": [
    "lr = LinearRegression()\n",
    "lr.fit(X_transformed,y_train)"
   ]
  },
  {
   "cell_type": "code",
   "execution_count": 18,
   "id": "_sfChVfzdbvt",
   "metadata": {
    "colab": {
     "base_uri": "https://localhost:8080/"
    },
    "id": "_sfChVfzdbvt",
    "outputId": "5fbd8517-f0f7-4d40-d82a-3525a1998e83"
   },
   "outputs": [
    {
     "name": "stdout",
     "output_type": "stream",
     "text": [
      "[[  6.6840532   21.86795242  74.07930085]\n",
      " [ 38.59023192 109.58711798 146.00375426]\n",
      " [ -6.34499727 -29.38945288 -52.64642824]\n",
      " ...\n",
      " [ 57.16470213  99.25607559 118.80058995]\n",
      " [291.05530343 873.29872369 712.32664318]\n",
      " [277.33294695 710.4576258  599.69792005]]\n"
     ]
    }
   ],
   "source": [
    "y_predicted = lr.predict(X_test_transformed)\n",
    "print(y_predicted)"
   ]
  },
  {
   "cell_type": "code",
   "execution_count": 19,
   "id": "GTwP40iEgmyw",
   "metadata": {
    "colab": {
     "base_uri": "https://localhost:8080/"
    },
    "id": "GTwP40iEgmyw",
    "outputId": "94d7645b-f8a0-49e7-c5c1-185efc99bad5"
   },
   "outputs": [
    {
     "data": {
      "text/plain": [
       "0.9028948943394938"
      ]
     },
     "execution_count": 19,
     "metadata": {},
     "output_type": "execute_result"
    }
   ],
   "source": [
    "r2_score(y_test,y_predicted)"
   ]
  },
  {
   "cell_type": "code",
   "execution_count": null,
   "id": "QKOk5WAegmiy",
   "metadata": {
    "id": "QKOk5WAegmiy"
   },
   "outputs": [],
   "source": []
  },
  {
   "cell_type": "code",
   "execution_count": 26,
   "id": "tGNf8_rMqhtk",
   "metadata": {
    "colab": {
     "base_uri": "https://localhost:8080/"
    },
    "id": "tGNf8_rMqhtk",
    "outputId": "ffeebd62-b057-4d01-cc2a-67283be4c878"
   },
   "outputs": [
    {
     "name": "stdout",
     "output_type": "stream",
     "text": [
      "[230.5733725009486, 245.07572590687778, 17.09871492907405, -4.626603782759048, 222.29924753552768, 5.322612084564753, 19.826136151561514, -11.98604530619923, -25.502584710135125, -9.757520789746195, -0.04894664394669235, 15.257047025836073, 146.42820796591695, 25.054297340568155, 9.745032907812856, 1.9522364881122485, -9.027436281670816, -5.7052556881681085, -9.14420503762085, 119.53775417106226, 50.607658469467424, 174.81801208981778, -5.942701098159887, -30.44744214147795, 139.74007553351112, -22.05615821480751, 144.91309025965165, 43.04009368142579, 37.44857321365271, 241.98253155266866, -17.414006476756185, 285.2711813893402, -26.37169488251675, 156.55060519801918, -12.094988349592313, -22.4084597856272, -11.469265940017067, 26.258350635296665, 199.33635300642345, 2.9745298402849585, 248.4409615881741, -4.842571103130467, -10.545894925133325, 219.64889681374189, 87.00306665350217, 28.077558618504554, 198.28623409383, -12.798358391970396, 19.311652374686673, 34.75300135242287, -21.103632281534374, 274.98610135307536, 94.79348050314002, 276.91751250217203, -8.406125962501392, -29.64494207361713, -27.108962472877465, 2.744235576945357, 101.69001973979175, 28.374163734260947, 44.27933176641818, 100.42993192526046, -10.036861413391307, 26.807062234147452, -38.15277385141235, -5.871905727661215, -7.114555282634683, 43.72527918010019, 60.971744835260324, 33.38054514094256, 28.636972457985394, 202.7242381121032, -12.157262263353914, -15.2723798006773, 131.0471431730548, 14.70902330847457, 29.379226821125485, 397.01450257888064, 206.14762176200747, 20.664778544567525, -8.90870147314854, 156.71492176654283, 7.555183738586493, 2.9814329801592976, 70.85063309338875, -28.332331957062706, -8.294502936885692, -23.12930599937681, 268.25376933650114, -0.37377490021754056, 101.22104108287022, -32.276630653301254, -15.095179418916814, 150.90945212752558, -25.855706910486333, 83.14973080530763, -6.426879361155443, 120.39452536043245, 117.25347603322007, 13.934653978096321, 101.19813772488851, -27.724712839815766, -14.801750265061855, -7.524287078529596, 312.5007380938623, 21.77868170896545, 9.364924072753638, 217.07470647769514, 188.48816620663274, 4.003710636519827, 196.15604761103168, 26.378163991845213, -8.705042319605127, -3.5642500433605164, 266.75830494984984, -26.5865057464689, -0.02118183148559183, 111.43000951048452, 34.721834493102506, 65.17803524364717, -13.37213312741369, 76.71073954971507, -12.437990895239636, 241.44507504126523, 48.221073289751075, 166.35424195567612, 168.9055697877193, 154.77242397656664, 258.7141199094476, 214.12616381107364, 86.47750409261789, 65.90602574159857, 214.26552858995274, -3.7932378883706406, 5.842009635292925, 255.21142766729463, 78.324416845222, 347.5591158022871, 221.44889996375423, 0.6127847997704521, -5.802524548838846, -11.230247747618705, 51.71971271117218, -13.461970390402712, -16.830872640479356, 322.4417831944302, 139.15762796718627, 234.17907391209155, 147.26251560042147, 10.437204470508732, 80.17749978986103, 15.731902981293388, 269.44145060237497, 134.90695317368954, 199.15190475725103, -36.42436023487244, -12.104393263231032, -20.52738616557326, 199.65865123667754, 256.58638820645865, -35.610755480010994, -16.604289414477535, -15.775271826656535, -20.542543877614662, 156.2796813994646, 31.474856222514063, 0.9033584502758458, 8.113428961252794, 42.35034263622947, 270.53408153832424, -11.592316276975907, 205.38801334425807, -5.707694996963255, -17.935213539749384, 231.03718422725797, -33.611704598763026, -27.359348445897922, 65.15453212684952, 153.64832309354097, 17.374472855124623, 54.29883413785137, 227.36837591265794, 177.83920807554387, -9.551867237780243, 18.871111660031602, -15.112388411420397, 127.20110168191604, 42.378449650714174, 157.97987344895955, 20.373551715980284, 194.81585333426483, -23.873447299702093, 135.5214245178504, -7.836632430320606, -19.97571117512416, 184.49478013941552, 15.414667444769293, -10.900601231842302, 38.609180553699844, -20.327946030069143, -2.476753490511328, 236.63600931421388, -0.11939205380622298, 103.32852897187695, -17.088300326257013, 194.8858488155529, -10.870873136911541, 168.21400830172934, -8.42589600768406, -39.26303277828265, 221.18222249043174, -20.495844269054942, -3.7562820952152833, -15.207181137055159, 42.605177325196564, -14.839164463221096, -10.994625705177896, -16.804490293143317, 11.926492942031473, 45.00014111411292, 220.13435509672854, 266.3459035457345, 11.480365148396231, 106.9397680752445, 4.059395865770057, -22.862091966089793, 161.79348062409554, 38.75708854221739, -34.01863104815129, 195.2982558888616, 115.17299409036059, -12.976800658972934, -7.526264106389135, 89.91480641521048, 241.89291231834795, 3.4184163141762838, 38.55620957305655, 180.95312280254439, 6.501746561611071, 22.241245784098282, -5.6390452712075785, 55.48396961390972, 186.54952190082986, 7.347452721907757, 195.0113087965874, 231.24308971816208, 47.216863989364356, 100.92166589770932, 1.1390334365423769, 195.3728013978107, 97.38029952754732, 109.46296135114972, 280.71732052625157, 6.661918868427165, -12.240180043503642, -5.416728112031706, 167.89994604280218, 219.05138627404813, 39.14528501429595, 211.01261353865266, 14.91591768967919, 2.211491113062948, -8.377783685107715, 195.90176923852414, 40.00444572092965, 133.039754836238, -10.978514600894414, 97.4590585345868, 224.3108118858654, -7.1872267060680315, 245.0419680031482, -7.368205278762616, 253.80099055706523, 89.75452861643862, 226.32862902909983, 142.0074189613806, -13.299106649588794, -4.945007864851505, 221.56466481252573, 224.27909803274088, 114.4973166125128, 143.61854377249256, 168.7974991586525, 259.7384317207616, 262.21637032704893, -0.29917200992349535, 109.5675556367496, 268.7854168068152, 251.80308347393293, 62.22006945009343, 111.63153216382489, 5.508948931121267, -18.461068202275783, 7.013689510640688, 109.72225816443097, 294.1788770726416, -6.532209467608482, -3.5634114743443206, 179.97117782372516, 173.13485391193535, 48.71064296143595, 4.032041328027844, 400.23537222866435, 154.8696006052196, 22.337809814489447, -34.992116113658994, -23.960889610578306, 0.8948466018773615, 205.61811748635955, 174.65310371969827, 192.94474225933664, 260.8263982415665, -12.220186804188415, 19.28101193404291, 151.33343965385575, 73.39020897587761, 167.62330630875658, 289.1188489716733, 78.40756092802621, 0.7531670921016484, 107.22109760949388, 86.66896428866312, 12.809542841976508, 8.115361345000565, 158.40170187223703, 284.36449293314945, 91.14035015832633, -14.017505811410956, -43.84336933051236, 4.011846015229821, 223.81873467937112, 29.510258351103403, 10.428783532464877, 0.0546899379696697, -7.01997313729953, 17.135157690616325, 49.338698142790236, 32.49269565602299, 78.9121507955715, -31.250114964903332, -19.319256301852874, 185.30046490079258, -17.261341600911692, 132.7725299259182, 295.94167432771064, -17.321406185277738, -33.74382674205117, 137.15420007286593, 61.830747523577884, 89.06378015573137, 85.32986311113928, 168.49726592109073, 53.595709259738214, 245.4038201549556, 137.8663901804248, -41.95279376034159, 250.9250700129196, -15.491937190759927, 167.80462624051142, 131.77824409352615, 51.97801303502638, 0.7900977453682572, 199.04611639527138, 156.9591475938214, 209.78428703872487, 172.7687434697291, 237.9342098197667, 5.133072676486336, 82.54615233454388, 10.687530083814636, -50.866034755832516, 115.61271828704048, 120.68361500371248, 1.8178684113081545, -6.430313771707006, 232.0950564572122, 78.36847582098562, -24.666819510399364, 218.89925153763033, 4.919308838900179, -14.202577615971677, 267.2843303460395, -21.022001086734235, 7.573674814077094, 63.326853752019815, 336.71415510377847, -6.662365482887253, 142.1338223075727, 245.6041202545166, 16.564576532691717, 16.683064567274414, 25.46673720399849, 33.07571079139598, 235.3005323118996, 276.33052385330666, 137.33480881527066, 6.877769568469375, 7.376179572427645, 20.77003168419469, -39.44582813314628, 329.2729925677413, 63.4348531269934, 220.59506012196653, 248.96404332085513, 164.30412683950271, 236.86700520163868, 171.61644970998168, 97.24955037864856, 15.071980455657467, 101.71661904652137, -2.617672422202304, 132.45976152841467, 174.53916861023754, 1.48162024281919, -9.03358825063333, 203.00216353486758, -8.505513337440789, -13.938877332373522, 2.9988995691528544, 127.51428714254871, 40.002038141479716, 200.3782348582754, -16.12837271252647, 12.882274941308424, -0.31156591209582984, 69.43227091233712, 50.84789603878744, 245.22978502663318, 213.44800823461264, 223.30358667625114, 239.32437635725364, -27.08350811107084, 196.94318748812657, -24.014342847978696, 31.737220974988304, -26.56140232947655, -17.718777702422813, 377.8032546628965, -21.643868232727982, 25.65396469819825, -17.062965337070636, 8.463018911192194, 238.47841287590563, 28.078971198177896, 86.624726506765, 70.33930240711197, 10.555794468149543, 1.0884762916248292, -17.617651396314614, 229.81273765861988, 7.780418991809711, -0.800821915618144, 94.08521125942934, -1.335893290466629, -5.438551761559211, 50.93409565289039, -21.52503654814791, 3.1242687084013596, -31.669341769535094, 206.23487450671382, 0.08980926836375147, 1.190064512542449, 189.86881188245025, 16.70233525580261, -1.0945830963319167, -10.560374061227776, 261.6620687103132, 132.5791567437118, -29.834147244808264, 165.40890845435206, -18.258279438246973, 203.6293978288304, 5.354706735815853, -9.733522261143662, -4.413424227735959, 216.07491917628795, 17.446465755347162, 264.01389452186413, -23.113842491293326, 10.268453154014423, -40.42566276201978, -0.6510186060331762, 188.58016291842796, 188.44902881921735, 12.360472202650271, 247.25497851264663, -6.674155416083522, 161.3210357798962, 17.605736718629487, 28.6846124578733, 123.94693644682411, -10.944099055137485, 208.66370252030902, 171.6724864889402, 115.82474288484082, 2.130623020231724, -4.699247442185879, 246.75947937904857, 205.14790777349845, 208.40962079563178, -9.641835036571138, -31.433400160400197, -18.254872863180935, 220.53389753971715, 71.5296517041279, -35.2012380680535, 102.28813196578994, 15.138902856153436, 10.965952575090341, 193.36748249130324, 115.34660268109292, -12.186823118128814, 108.56902074802201, 15.314281614380889, 150.90248036850244, 66.35896404995583, -24.240141430986114, -22.04363645729609, 146.25233680859674, -19.40743020235095, 33.04708193556871, -21.949133735965006, 67.94732642825693, 170.79246798506938, 4.234704124974087, 182.3371925597312, 19.917341696913354, 166.45062148221768, 70.30614631134085, 209.78957994130906, -11.997407621820457, 136.9958012587158, -12.837070559500717, -22.361770962597802, 23.69402234465815, 27.469706489588134, 154.46055598452222, -30.191357387928292, 258.4732630380895, 13.714770901598968, 59.107338895555586, -0.03221949760336429, 23.70088450924959, 69.87440370302647, 9.191210557473823, -25.665798978530802, 15.370280944742262, 169.84112346032634, 200.8010975921061, 247.3780790938763, 15.419821037212387, 3.8531512217596173, -10.905887822853401, -4.394364996114746, 108.37580181984231, -19.20964889996685, 130.82436695485376, 68.8032338230405, 1.7277438360033557, -33.10223797580693, 52.7777082627872, 122.22551764908712, 6.624542403384112, 259.81428976147436, 72.86036044929642, 228.62711973744445, -5.921255075954832, 229.8824783252785, 12.869829370407388, 28.906363435671665, 235.98058815614786, 110.58022629877087, 76.60173137323, -35.58101287332829, -2.673716584336944, -22.824412876623683, 67.641167658614, -2.5456970307277516, -4.2743588977027684, 8.841504698619246, 275.2985874861479, -3.3080579706002027, -23.28990474611055, 17.331723113544285, 185.33145510964096, 166.4570443831617, 32.19931802584324, 230.0806813100353, 133.36354100727476, 21.020371991791762, 10.925182307953946, -14.955197621951811, -17.37418547202833, 299.7586758908583, 32.51387758681085, 33.425323163042776, 204.74972771981265, 16.457562465337105, 16.07052899163682, 11.01525974588003, 221.30441697745118, -18.299917675554752, -10.868557273992337, 246.88992329814937, -9.501363483956084, -30.937890640692785, 29.7378513867734, 265.90691649902146, -2.989946869551204, 78.71553286234848, 14.453852791921236, 186.32628580753226, -1.5925097019644454, 39.33878962637391, 199.4699516800465, -0.6636193586746231, 44.17628714744933, 51.308453236473724, 260.3413440529257, -13.859541257377714, 238.60590452991892, 231.01988145476207, 288.86072360607795, 270.4743426790228, -34.48412762605585, 267.14051914354786, 59.548720654216595, -34.29960858193226, 23.913071935763583, -8.447643879218958, -28.196695253951475, 3.569168336689472, -23.34124082326889, 201.80844033043832, -20.019046196131967, -7.552065406693146, 1.5793589428067207, 18.973274452611804, 257.0495835922193, 13.438823343021795, -10.343491130275652, 56.709423554711975, 241.7827922917204, 141.89759805542417, 71.88354084058665, -13.215159062412567, 182.84158224705607, 142.41288182605058, -15.141277213930152, 86.95829724299256, -31.367067032959312, 1.6502286015311256, -4.5889841800089926, -7.984209188376553, 239.9927491780836, 354.99976661172695, 253.3415657931473, -4.417954300879501, -26.89277834643144, 244.66733220370952, 46.67565402050968, 4.192420375766233, -23.982544344384223, 223.36588327097706, 72.53103132767137, 52.10115118266549, 118.53410718741361, -4.600353559479117, 224.4908474306576, 13.459036243963055, 21.488972629071213, -10.433921499294229, 11.176241551176645, -3.7987907697679475, 1.7024570094654337, 8.284126550424844, 23.457270133774728, -17.951672365772538, 241.74792202434037, 116.87916650471743, 82.07848475081846, -23.028425892349333, -8.274874073569663, 39.3933918888215, 157.62870988226496, 149.7293344605714, 33.36384918598924, 3.6814414676046, 172.49808228656184, 246.4555587542709, 9.040085932705551, -2.8701563365757465, -15.455775172566064, -17.88635536725633, 115.76531796623021, 179.3671203146223, 14.7736245499691, 229.0442447073292, 99.98312230035663, 32.405828679329716, 290.5701845365111, -18.035950247896835, -8.480164910317399, 173.92261384997983, 256.304209345486, 266.6622350680409, 15.2021450586617, 250.5984868267551, 67.22833169519436, 67.6135988245951, -4.719438844942488, 100.90616660530213, 9.22334391134791, -2.2242366106947884, -13.328083083149977, -12.387929656426422, -5.765452337451279, 2.4571879694703966, 11.605888033402152, 281.2741146753542, 241.25723185692914, 198.77737704268657, 61.6144491386367, 14.734402883099392, 109.90751354186796, 275.62276350229513, -15.258343758410774, -11.146627410664223, 19.110328738344833, -3.936459188698791, 77.48345389857423, -23.925174735602923, 55.85575571132358, 266.139789084089, -0.791318447329104, -5.482762550003827, -6.347493845736608, 17.105194823117927, 180.91228199133184, 278.04331466858275, -18.115923319826834, 241.6373321719002, 110.93826057028491, -21.131522337091155, 135.78646872635, 4.832272422150709, -14.019507006043568, -25.712909644236788, 18.0243651837809, -0.37927257537376136, 52.381971120252274, 200.37628541118465, 38.14774459064938, 101.08695350121707, 187.77089302241802, 41.03852178074885, 159.95727400190663, -4.887648094445467, -3.14080189820379, -13.429503863444552, 6.007257081568241, 119.535400721943, 189.31536260945722, -18.147892085369676, 67.08452666911762, 212.7796003437834, -21.798588603385724, -17.985339713282883, 1.3658502283506095, 5.667078054626472, -5.580628760508262, 257.1018030339619, -7.05562600295525, 213.84094362915494, 241.3465363041032, -21.801728194463067, -51.59940315026324, -40.50322172208689, 262.70256316429004, 259.85141064575873, 249.55716377915815, 82.28414690122008, 285.52333817002364, -4.605348720098846, -9.113784535671584, -29.034418385475874, -6.644743285840377, 250.8930460360134, 212.6797612553928, 201.0795614606468, 14.243015273357742, -14.137758985743858, 30.588781093247235, 175.9745881059207, -23.591573532437906, 211.25146987929475, -24.892554996535182, -7.333904858794995, -6.650425198022276, 126.76773594808765, -5.519759947084822, 131.4737795762485, 12.371877728728577, -1.4910217268625274, -23.78350426419638, 76.32628078002017, 96.11354951479007, 277.79153560171835, 242.22481466003228, -44.36765541846398, -24.745339037268423, 70.0679457928054, 7.913635495817289, -9.646555073210038, 151.73405227868352, 98.31253779469989, 167.48833461955655, 234.6905200618785, 180.99757025099825, 14.922024823259562, 241.48245074879378, 242.80678236763924, 9.41196426935494, -5.86495518614538, 1.7346313804155216, 129.46049103420228, -14.246860330924392, -32.42606653680559, -6.617717713234015, 215.9913360400824, 59.55223622126505, 16.222022684756666, 112.6629382064566, 134.6088279982796, 248.5758597975364, 166.03682742535602, 147.69657311367337, -17.795897128875367, -8.067296893452294, 8.031835465459153, 3.8987250204663724, 90.16825526452158, 236.99985042237677, 4.357884374447167, 0.3967885812744498, 3.049766041105613, 217.07680235989392, 11.431448856601492, 235.14486891392153, -2.1290531014092267, 202.9726255524438, 108.47327371744905, 78.29748334921896, 250.13587953790557, 4.076275169267319, 230.08422027353663, 248.8081791352015, -9.265854298253544, 24.976191960042343, 187.91982740245294, 126.652722750674, 28.811682526720688, 120.93800398369785, 104.56147755065467, -26.89091044862289, 6.628006426268257, 33.33939345460385, -14.218255790765397, 103.41473924997263, 29.817426790017635, 291.1277235681191, 37.97098935209215, -14.941854796838015, 0.28309888509102166, 296.2847347353818, -14.79351828317158, 151.21791561378632, 236.7072554648621, -13.864212112966925, -10.029702907777391, -32.50528969184961, 261.3227603995474, -5.739619450061582, 12.221599725424312, 27.27775210258551, 180.59175242006313, -20.387429873808287, -21.43779642879963, -11.284833693411201, -12.837167689343914, -15.753864212776534, 91.65230334550142, 299.6853318918729, -33.6171069429256, 82.86444839951582, -32.67275312473066, 19.039747109054588, 60.20792001869995, 21.959970227675512, 43.91935520491097, 132.30638659442775, -14.980807278770953, 135.71916785510257, 45.78624321555253, -25.7998309036484, 251.638040040154, 272.33033810334746, 23.529318452929147, -2.874308173893951, 53.37664033926558, 71.44518704130314, 160.02411851868965, 185.1420118806418, 83.04525946127251, 222.36975996487308, 168.27140391780995, 41.328196635935456, 246.53265111986548, 86.20812784635928, 55.37275299418252, 129.0200377033325, -4.7529434526804835, 34.64081312145572, 33.862374261254445, -14.60270472895354, 251.78613271832, 5.075648058089428, -34.55538594769314, 21.009245808585547, 46.537225715466775, -6.931906002340838, 24.917472742847167, -13.006332465680316, -33.37193617329467, -21.839476068736985, 158.13342682563234, 130.31989351904485, 79.45584457030054, 85.39212062256411, 110.111789434799, -17.04592531733215, 226.6704418208683, -42.06707660248503, 27.98900227586273, 23.74856872309465, -9.593803207855672, -20.682939643971622, 19.583775034057908, 33.491021342691965, 44.20707210316323, 296.83016321226023, -31.591770816594362, 28.657617700635456, 169.41113685490564, 85.06761920300778, 17.285140716005117, 215.5058450778015, 277.2467151917517, 138.16894463123754, -16.982754548313096, 213.604604396387, -29.428652571048588, 51.84618291724473, 11.966190549428575, 42.70197541627567, 88.59428858873434, -11.922077846364118, 3.6025216777343303, -6.0424305613851175, 14.650925915921107, 2.841203836607747, -3.26731245231349, 160.5524515239522, 182.18391336954664, -6.2502454000059515, -4.416696898173541, -59.60833533888217, -8.427916039247066, -34.110500983777456, 154.98568190692458, -7.809884563670494, 127.55119019502308, 293.99687335069757, -13.473730515805073, 19.723683086340316, 11.83960145211313, -0.53528238798026, 265.230369900004, -6.980128857656382, -7.108090054593049, 193.1735207765596, 15.609175822115503, -37.06293115520384, 142.88828106946312, 222.86343536898494, -1.414294853573665, 385.02534270856995, -34.758298352593556, 239.8681194005767, 148.12426327250432, 11.487567483563907, -24.781461070058867, 192.90468959021382, 179.0635913934093, 83.78583422582597, 114.54987322119996, -29.327218323247507, -22.638153068255633, 8.862747792038135, 15.852461652480997, 196.91587313264608, 117.54760174686089, 23.290122080943547, 129.11024036433082, -14.529751653899439, -13.609653674880974, 216.70425234781578, 63.35075415216852, 21.229534910526127, 253.7607327554142, 12.890763197792694, 184.53438895137515, 165.50520800158847, 84.18512888718396, 1.2300202893093228, 196.66887226712424, 36.69128872395959, 57.027258112095296, -39.5085913091898, -7.893269607564434, -16.743700265418738, -8.640117283794098, 5.191570186521858, 183.11051463056356, 216.93758651276585, 4.740834105410613, -17.67437169549521, -9.651379792834632, -41.599359182524495, 178.96594056021422, 210.9786964491941, 393.1793273083167, -0.5982934242347255, 69.29477041284554, 9.246744726784527, -22.04510754090734, 66.86760294472333, -13.35958211927209, 240.99334424524568, 23.65356878458988, -30.77619041223079, -11.811836475972086, 205.38105457799975, -1.2256281323498115, -15.015953784575686, -4.498343480285257, -2.8309773632790893, 43.56383196823299, 23.24159748549573, 21.618201394332573, 105.91621346969623, 4.178051423630677, 159.81813668983523, -6.4258489405037835, -34.46567007154226, -10.106604734202847, -13.523208917933516, -16.930060236365534, 237.85307408915833, 192.08102621790022, -28.25477096089162, -9.975429500336759, 274.0869437282672, 20.35201084369328, 9.183694236679003, 100.00061682390515, -12.796844086959027, 231.3131615323946, -30.168873021262698, -20.05294800910633, 139.1806374321459, -11.370474946917966, 6.76115904992912, -18.586701310472563, 212.19029185187537, -19.10512920632027, 6.737617984064855, -2.3404813847737387, 126.08050421532243, 48.02209339663386, 21.249596154433675, 22.33977267111186, 20.81633082998451, 279.99642382748425, 41.029629559023306, 217.3790947740199, -0.5924429200822487, 8.615943273063749, 256.3039104513591, -23.254505177261308, -10.763899993384257, -3.605292954482138, -0.661725097335875, -25.46637336234562, 207.4123325694818, 250.22295661258977, 147.3488460816443, 10.78781719703693, 268.8146069891518, 249.7161238847766, 262.0518754591467, -36.592509031295776, 120.52580102637876, -26.396203222102486, -15.290298591251485, -29.260991135961376, 200.43233187752776, 28.936693024123088, 78.65229391062167, 26.390892281429842, -12.545352416462265, -23.216473389416933, -0.2807351271621883, 257.9598865387961, -21.5845035930397, -8.012058779131621, 279.5263097437564, -10.594686452648602, -21.208849102375098, 187.38335088221356, 246.148455736693, -22.411430058884434, 217.36668770131655, 160.36548211041372, 194.72318776336033, -15.425943930400535, 245.38149158016313, 50.481442493153736, 83.42548700119369, 6.473868934437633, 6.901094425818883, -11.674242492066696, -30.479646501946263, 252.55409865174443, -25.041642653988674, 1.674070362583734, -37.6650624088943, -25.03853556443937, 280.81007955782115, 132.9825924822362, -2.090680952416733, -27.49627329118084, -27.238598667550832, -8.352306637098081, 10.08565799461212, 27.088542185374536, -1.0443591841030866, 242.91410589020234, 34.329163525486365, 274.98765473649837, 85.41160364437383, 202.65640641993377, 119.06305500713643, 152.6649362500757, 136.88147656572983, 36.75365400721785, -9.749197170953266, -9.873531835153699, 277.86482679017354, 251.3599324078532, 82.20395451900549, 93.48724884376861, 31.097010482801124, 225.38111754029524, 110.7817834734451, 97.61024696019012, 182.1076974265743, 301.6862853964558, 36.82124789687805, -7.284972249646671, 253.57459667068906, -41.8809728899505, 152.5536282515386, 35.16352711804211, 71.35751075844746, 19.168624070007354, -46.34496661578305, 4.895881301956251, 274.32687006983906, -18.038468166370876, 66.03666894510388, 81.14241609163582, 2.8152157560689375, 141.35715005511884, -12.780668958206661, 13.041678489651531, 151.84139569941908, -14.29026270401664, -25.01795009430498, 213.62045559030958, 67.97273963398766, 14.117417539819144, -4.660085706389509, 135.0810581636615, 224.21137455373537, 88.87093383865431, 212.92895598243922, 68.9323499352904, 13.962658946984448, -29.607508698594756, -0.7497578157344833, 0.09377951000351459, 2.268373279715888, 114.03064680506941, 39.91440206230618, 66.43942877056543, 14.117955743451603, 70.28251337585971, 47.86219440458808, 1.743823339464143, -12.951763843884692, 139.88627330516465, -20.42232729261741, 222.27323838532902, -30.375331926974468, 169.23649708006997, -2.342710614320822, 135.74202743347269, -6.323692805483006, 115.0144491251558, -18.543977260706015, 74.95999532868154, 5.177778673591092, 134.54860245226882, 77.90468241646886, 230.77443645894527, -57.39809100155253, 73.67427861341275, 14.186292848433368, 12.522671878221445, 95.1444008339895, -33.41976595076267, -10.59056681022048, -2.2433106016833335, 159.48701873770915, -19.317703928332776, 63.21493547933642, 95.48152585432399, -0.890322391060181, 56.9188059035223, -8.066710148123093, 240.42281833896413, 6.229114627232775, 226.33942897990346, -4.549677317030728, 103.04081442591269, -18.185502129374072, -23.73800963431131, 15.38249899900984, 9.675631525111385, 13.837194127379917, 78.0498071203474, 185.8790417968994, 177.1120196111733, -23.286614520591684, -6.403102746000513, 1.054963918053545, 193.8090884438716, -14.020128998439759, 270.96865341148805, 113.26808935764711, 242.33355721086264, 42.26167404896114, -28.542709627072327, 294.6227599304402, -15.077521954546683, 5.295429580146447, 78.31266643246636, -19.14238465030212, -5.804818183416501, 89.1170930477092, 87.86420893284958, 48.81982232443988, -9.551843089750037, 211.9783101938665, 7.950788181391545, 237.23530811839737, 20.67143494915217, 93.85322660545353, 273.1236424983945, 207.8794767697109, 8.954081140575, -25.364307983079925, 30.53753263084218, -1.5762008789461106, 197.94440890685655, 25.22351142775733, 144.9309170434717, 209.63685284543317, 197.38585463317577, -9.358366323285736, -4.63781703740824, 339.0756698582554, 66.37682933104225, 12.89002743724268, -11.615314277471043, -16.45853085780982, 209.9218624100322, 58.0569575834088, -13.978562294621952, 12.684864975395612, 93.36068011005409, -27.776267963810824, 74.19555867416784, 17.150610933895223, 74.98423539591022, -1.2412362870527431, 14.061477833776735, 257.2039747152012, -12.471808781847358, 26.78962079284247, 160.5628775866935, 90.8064560671337, 17.12729344109539, 5.554242774029262, 228.8616958730854, -10.501690180506557, -21.10615420411341, 7.947093663853593, 12.301414704415947, -22.23058046994265, 31.497952364152297, 198.22689414850902, 2.840490434668027, 219.1690191476373, 257.28730003151577, 115.96611817204393, 11.745574311702512, -9.055762149044313, -9.449636694858782, 45.06586506788153, 8.822156563866884, 305.1273138268152, -14.503509172936901, 133.30903037730604, 238.61019225488417, -10.827349196304567, 12.319116947823204, 19.179581963224337, 234.1611921035219, 10.275040045147762, -16.1840067722369, 16.214950668043457, 98.60490985237993, 119.3872047761688, -12.04678505542688, 271.22563567070756, 135.06221594510134, 30.10586438642349, -5.935386135941371, 255.99958790256642, 54.59242269885726, -14.180922512081452, -10.196525938226841, 189.86010084766895, 252.78320272255223, -18.425164925516583, 336.16451671510004, 23.53674502694048, -8.084406427107751, 266.78799672820605, 201.04259176622145, -8.845978958299384, 116.40763112623245, 101.9122178312391, 161.28354597173166, 111.21285599796101, 37.930332556017675, 137.85038743703626, 117.99054040340707, -7.262941227643751, 12.56083319557365, 72.08340152224991, -6.305029621347785, 11.662830855580978, 73.25508879357949, 165.3763098466443, -6.384238360333256, -30.38867504254449, -38.64382911846042, 51.998631800874136, 326.6396873075282, 190.7290742517216, 325.60245045414194, 0.1559483869932592, 34.1794764441438, 6.580202382407151, 167.2491356357932, 5.175410842173733, -2.2124142348766327, -2.7769466877216473, 41.23242705746088, 221.22886743373238, -5.562967931618914, -39.512613274971955, -16.089936765725724, -19.73502487933729, 25.922192374360748, 37.17517977079842, 241.0225301446626, 295.53392311371863, -6.05848834279459, 103.30315865122247, 138.68831440689974, -11.52468493487686, 65.82993013807572, -6.316649962449446, 197.0222517211223, 12.108837523846887, 75.86867407965474, 6.61944469390437, -12.049656369024888, -14.375902276602574, 61.82821964658797, -8.133916926686652, 41.946590539999306, 43.4519932839321, -27.819696833612397, -18.304711565026082, 64.22009313351009, 1.377202624338679, 218.67392916744575, 252.15966259874403, 238.84337891766336, 234.00820261286572, 107.8569268976571, 216.99545124999713, 0.9585186197655275, 229.90291762386914, 19.470975635922514, 17.892288471921347, -5.234160143416375, -16.461742619168945, 8.72381897480227, 113.4566326723434, 16.672231210628524, -13.042366732261144, 244.73903248726856, 116.87517906399444, 250.26064572157338, 82.05542049196083, 19.634001839440316, -21.615342297940515, -18.350400296389125, -42.92309946892783, 181.78635684633628, 20.01400064327754, -18.43768146180082, -35.616804395918734, 34.0994813736761, 173.75237921252847, 41.17501460737549, 2.27144443790894, 92.16464883286972, 0.9822590322000906, 252.28908017661888, 264.78787670983, 158.4236038266681, -41.65728141868021, -34.13628386997152, 244.67067746678367, 245.26179413532373, 25.074805809534155, 241.65463733836077, -19.155157425557263, 207.0781308338046, 46.44290874095168, 217.01395734155085, -10.203707010135986, 5.922740491107106, 273.37890996644273, 275.5894281823421, 146.84525077487342, 2.1644501733826473, 13.417164573562331, 238.88421873026527, 319.9255385340657, 48.9999911619816, -3.381972031085752, 21.526682440191507, -11.88325819070451, -20.309419787838124, 209.46068461087998, 42.12940235971473, -22.616244145901874, 55.67683768714778, 28.23373963520862, 13.713444068212993, -2.3899424258852378, -40.1227909225272, 215.92797290545423, -26.68612556066364, 149.40036960248835, 181.08319643849973, 262.75786983047146, 6.933108979370445, -0.6964191565057263, 80.58456579328049, -17.47204582300037, -1.1489127337699756, 57.90007884323131, 10.860121343750507, 133.92023741011508, -4.849903737893328, 102.78567426628433, -3.8371231912169605, 230.06420776084997, 43.106635560281575, 178.10763030231465, 138.12102933076676, 200.19805243355222, 246.11143284884747, 158.8757278547855, 214.13628457696177, 22.34827290708199, 240.096636108472, 7.570753864827566, 138.5702860308811, 253.6231190088438, -4.517301729880273, -5.682380504207686, 27.642418748000637, 3.7562196732033044, 6.488810143549927, 234.3805509984959, 21.77997167315334, 149.75194171676412, -20.84335889830254, -1.4146266705356538, 5.988939691451378, 203.7088434996549, 74.16806724737398, 10.538064971216954, 15.829213843331672, 26.577462228946388, 87.59487292612903, -17.67177125555463, -3.3413514628773555, 164.46145981282461, 12.878553406102583, 22.414892512722872, -14.415183584671468, 66.376469562063, -23.998322315397672, 172.5766341771232, 13.767080383142456, -23.93711243045982, 41.1324654732598, 0.7797547361114994, -9.626639543450437, -10.216465363278985, 98.95079027838074, 38.098502416862175, 105.32978242950048, 204.84348739753477, 19.719588556094095, -13.537358602392487, -19.065684118308127, -24.78794608579483, -4.581324041821063, -23.32750598376151, 261.7634382052347, -13.405070028966293, 192.09271421364974, -6.043465370777994, 106.22624689154327, 6.75105508370325, 210.26202213950455, -25.171104824985377, 15.113093978259712, 199.82444322039373, -12.046292699989863, -4.2673593846848235, -28.869797349791043, -17.98708491004072, 149.48679038067348, 207.8714459980838, 16.851762294070795, 17.462107337196358, -0.8249049608130008, 109.23840803513303, 80.66832997021265, -2.95362625294365, 79.37668834323995, 182.8436133642681, 62.85547712026164, 121.5288427824853, -18.610008165356703, 95.01126707298681, -5.661632452043705, 23.891810787841678, 248.86523727164604, 256.6166540104896, -20.113565449952148, 177.45018678240012, -20.69042206055019, 270.42102854850236, 9.299494421808049, -20.973098884918727, -6.295019212877378, 53.56240680045448, -6.2733567339600995, -18.300848045153543, 74.6383730188245, 40.855408950475976, 23.62165568047203, 6.3655241603264585, 4.422088831081055, 142.2904603285715, -0.76659924921114, 5.77210109110456, 309.3873964539962, 23.959198910859413, -2.95465357741341, 229.22304738755338, -45.613831524853595, 86.38783628691453, 156.5735397018725, 143.51482276711613, 34.534826173912734, 266.34662964451127, 37.89262260973919, 27.18554036738351, -32.13989231875166, 12.001161088468507, 227.46034614555538, 20.888586425338872, 204.1846002190141, 94.92208658752497, 20.512267079786398, 181.71549992461223, 252.46188332792372, 189.4962269802345, 198.55376037303358, -6.54271824657917, 9.278576058335602, -19.493973368313164, 251.86779280845076, -9.98560456186533, 218.60232915647794, -10.216541466652416, 236.13863222417422, 226.36460555857047, -0.145632793311961, 155.46809666836634, 216.11676699924283, 243.30771867127623, 38.75737379677594, -14.514919927809387, -9.254391140071675, 1.3790368902264163, 6.0235354114556685, 208.93490352551453, -17.786923521198332, 260.64885463844985, 151.48424380715005, 23.084562426316552, 74.45136484585237, 30.91549077501986, -7.435376283945516, -2.9155011232942343, -1.2713776050368324, 148.53495083679445, -8.193339978228323, -3.292700923164375, -12.818493158672936, 101.6273512482876, -2.026081703719683, 10.553445866447873, 42.78815375058912, 81.28204137366265, -25.798570102546364, 152.42071245855186, 210.16037656343542, 191.68949628341943, 33.42324616166297, -8.075621922384016, 333.8063940581633, -15.532288147835061, 79.79255225858651, 357.5886314184172, 203.3369691685075, 60.68139400810469, 314.02676783769857, -26.612496499205008, -11.7504220061237, 128.04398835101165, -17.037727633025497, 14.597897302359343, 28.674485562718473, -5.486726095550694, 84.15791485470254, -8.51486799446866, 90.92143427941483, -6.425327104050666, -30.386316010146402, 248.89840126386844, 35.51876551134046, -13.398969466099516, -1.699093124945648, 107.01043416198809, -8.29310053458903, -15.318711268017069, 239.53292924980633, 37.71675135171972, 19.53335890395101, 5.010252286912873, 157.5902361277258, 180.2623501108028, 4.688889334443957, 1.625462373252958, -15.644726418424398, -40.93578104558401, -29.097634073346853, 345.6595313103171, 258.5910883314209, 3.511971218511462, -24.63999013614375, 164.9102742994437, -9.862162247416563, 117.6039764409652, 21.8220503909979, 27.13664316269569, 3.683138773427345, 12.858850226271898, -26.841083047213033, 255.61191687954124, 21.98488811647985, -9.84144465031568, 305.01803163962904, 288.953046845505, 8.41216782212723, -3.8567360903834924, -37.030612604808994, 38.39678173256107, -3.709091125288978, 160.882708810037, 240.38207952526864, 162.26234119723085, -34.448008438106626, 136.3504090005299, 166.17761688260362, 92.38627943058964, -20.965184738277458, 4.512078885920346, -4.513580903178081, -35.51913874456659, -18.557441512704827, 239.63628850132227, 88.77586990094278, 292.0380497261649, 210.61929305433296, 9.084077617968433, 3.3966688110958785, -6.383675917168148, 36.18280511756893, 18.210920393001288, 257.0512173308525, 15.28938405890949, 230.88528538588434, 172.0564641453093, 236.3397545593325, 74.55402691825293, 270.8281645135721, 4.4362293453887105, -3.454173519392498, 30.208918348071165, -22.81262456276454, 32.0810104139382, -22.028050742810592, 233.28572766215075, 40.16127933515236, -21.125351147376932, 101.44947055110242, 184.76250791549683, -18.43552586506121, 293.8266076488653, 254.06117469118908, 132.88176617759746, 1.424508061609231, -22.111811129841954, 52.42832959420048, 73.23091579508036, 233.22477291338146, 257.78307291306555, 69.65341485454701, 16.375849896809086, -10.157540652900934, -10.72672001447063, 252.7331949059153, 181.91375801328104, 81.74791318981443, -14.577797873760574, -16.366086708032526, 25.97668226028327, 27.39760339818895, 32.924611567286775, 189.0887646659976, 2.140591283910908, 259.6055951358285, -14.387194571085274, 47.84649696829729, 43.82471565133892, 17.279998897924088, 15.117776815546677, 103.24755572516005, 191.84445799700916, -7.606716841924936, -9.152011470287107, -20.148631991934963, 122.90588514308911, 40.026165679097176, 155.57625179062597, -36.59329426870681, 183.51722912490368, 123.6172739652684, 13.855652568629012, -9.94788526406046, 63.76172921562102, 124.55403925350402, 97.45327860803809, 181.83008208416868, 214.29265720874537, 207.25481493538246, -10.870309067191556, -15.28609887266066, 179.53353818273172, 135.7196245775558, 8.783779319375753, -6.7600017841905355, 6.586931312573142, -20.54490396962501, 231.96218009584118, 168.29787601844873, 341.3441518932814, -4.66290331480559, 23.238308049971238, -12.786549392854795, 254.5891488819616, -24.057288404437713, 52.60454872692935, 4.807299827225506, -12.034941938472912, -1.661252208519727, -10.753266570274718, 16.167463057907298, 0.4752650425070897, -19.16897565231193, 257.60417984542437, -20.03855147154536, -20.62029619142413, 24.959007854340598, 253.94553855631966, 4.873347423505038, 85.92046928184573, 77.74137877509929, 7.845975890639238, 84.34178345801774, -2.6153076535556465, 118.52331481839065, 174.09354750695638, -22.10967798891943, 201.9654249866726, 0.44976688164751977, -10.359147411654703, 19.030507076182403, 138.44191680289805, 234.34847121976782, 4.623457556939684, -25.680756543646567, 217.48161586676724, 43.53419070178643, 218.11701066035312, -27.35780880053062, 177.81914533523377, 229.6917209054809, 266.07850891840644, 61.07025637186598, 213.4576668329537, 218.80071382492315, 231.34407219546847, 23.106551456730813, 82.73244555515703, -21.548579187481664, 70.97702679538634, -18.409698130213656, -2.7656871592625976, 1.9727276297053322, 98.40803276223596, 198.1186528254766, -23.293022492784075, -23.099528156220913, 158.63891634321772, 228.33524689101614, -17.93643104354851, 236.71969913633075, 67.96435095753986, -4.104860092164017, 45.061304381117225, -5.650533896870911, 17.099941069609486, 20.202533114817925, -17.6420758117456, 1.049557403079234, 23.5902445303509, 20.359419927815907, 159.9936854612315, 60.155997116235085, 198.71584376436658, -12.2699294667691, 1.8586915554478765, 16.456823711981997, -9.623668606276624, 147.60916574846487, -15.679684442351572, 43.613874200731516, -13.77790796640329, -2.9160950040677562, 115.24739439587574, -8.97944523615297, 98.78769046638627, 13.563650100608356, 230.01413530483842, 6.225492529338226, -6.195919206831604, -10.187690866645426, 249.97941233194433, 3.5478866973426193, 183.5454179655062, -6.134219490340911, -17.538974709808826, 113.29073265846819, 179.69561675575096, 119.3044906980358, 67.02846288541332, -33.35208321502432, -11.871583622298203, 5.477858945378102, 89.0524767091265, -9.16213114070706, -4.865777866565622, 168.45821067329962, 113.65701291174628, 9.094550219597295, -12.051237663137726, 291.4617335527437, 88.97805073636118, 200.0554694160819, 2.866650849347934, 213.95584377483465, 4.908240487799048, -24.15093766024802, -20.4201203485718, -2.385238461429253, -14.015768302953802, 82.2036745963851, 92.14438587031327, 136.04691161820665, 49.269216547720134, -18.650781284435652, 102.45065228559542, -1.2985722387675196, -1.451886568334885, -7.08252292254474, 0.2935835274402052, 40.95681616675574, 171.01424684398808, 138.75528690230567, 38.104362886282615, 13.44918010244146, -44.17715295951348, 94.68798045627773, -4.415945211658254, 23.30636036186479, 195.403066686471, 225.0221366349142, -21.61933732207399, 337.27412684750743, -9.656320537440479, 61.90814496867824, 1.053014020086266, 99.03205516049638, 51.52470846474171, 71.68535824853461, 228.18279066192918, 260.74865354632493, 267.24865027784836, 202.84847244934645, 172.32417051773518, -33.94838063046336]\n"
     ]
    }
   ],
   "source": [
    "y1_new=[]\n",
    "for i in range(len(y_predicted)):\n",
    "    y1_new.append(y_predicted[i][0])\n",
    "print(y1_new)"
   ]
  },
  {
   "cell_type": "code",
   "execution_count": 27,
   "id": "hpD_1c7vqht9",
   "metadata": {
    "id": "hpD_1c7vqht9"
   },
   "outputs": [],
   "source": [
    "y_test1_new=y_test['Clearsky DHI']"
   ]
  },
  {
   "cell_type": "code",
   "execution_count": 28,
   "id": "3MTuQwBmqht-",
   "metadata": {
    "colab": {
     "base_uri": "https://localhost:8080/"
    },
    "id": "3MTuQwBmqht-",
    "outputId": "65b31f63-3f65-46f3-ca0d-e982f0fcb9b9"
   },
   "outputs": [
    {
     "data": {
      "text/plain": [
       "6252    213\n",
       "4684    294\n",
       "1731      0\n",
       "4742      0\n",
       "4521    237\n",
       "       ... \n",
       "6412    273\n",
       "8285    241\n",
       "7853    136\n",
       "1095    207\n",
       "6929      0\n",
       "Name: Clearsky DHI, Length: 2000, dtype: int64"
      ]
     },
     "execution_count": 28,
     "metadata": {},
     "output_type": "execute_result"
    }
   ],
   "source": [
    "y_test1_new"
   ]
  },
  {
   "cell_type": "code",
   "execution_count": 29,
   "id": "HBgaJTXcppSo",
   "metadata": {
    "id": "HBgaJTXcppSo"
   },
   "outputs": [],
   "source": [
    "from sklearn.metrics import mean_squared_error"
   ]
  },
  {
   "cell_type": "code",
   "execution_count": 30,
   "id": "MnsHb5YMppTK",
   "metadata": {
    "colab": {
     "base_uri": "https://localhost:8080/"
    },
    "id": "MnsHb5YMppTK",
    "outputId": "bd7b30c1-5205-45e4-b4e6-d7a7ab65cb76"
   },
   "outputs": [
    {
     "data": {
      "text/plain": [
       "805.6481695894198"
      ]
     },
     "execution_count": 30,
     "metadata": {},
     "output_type": "execute_result"
    }
   ],
   "source": [
    "mean_squared_error(y_test1_new, y1_new)"
   ]
  },
  {
   "cell_type": "code",
   "execution_count": null,
   "id": "RCEDjoPkgmS6",
   "metadata": {
    "id": "RCEDjoPkgmS6"
   },
   "outputs": [],
   "source": []
  },
  {
   "cell_type": "code",
   "execution_count": null,
   "id": "iSCwXkf_dbe9",
   "metadata": {
    "id": "iSCwXkf_dbe9"
   },
   "outputs": [],
   "source": []
  },
  {
   "cell_type": "code",
   "execution_count": null,
   "id": "076f8111",
   "metadata": {
    "id": "076f8111"
   },
   "outputs": [],
   "source": [
    "from sklearn.ensemble import RandomForestClassifier"
   ]
  },
  {
   "cell_type": "code",
   "execution_count": null,
   "id": "b540dcb0",
   "metadata": {
    "id": "b540dcb0"
   },
   "outputs": [],
   "source": [
    "rf=RandomForestClassifier()"
   ]
  },
  {
   "cell_type": "code",
   "execution_count": null,
   "id": "1e7a8f1f",
   "metadata": {
    "id": "1e7a8f1f"
   },
   "outputs": [],
   "source": [
    "rf.fit(X_train,y_train)"
   ]
  },
  {
   "cell_type": "code",
   "execution_count": null,
   "id": "8f6c107a",
   "metadata": {
    "id": "8f6c107a"
   },
   "outputs": [],
   "source": [
    "y_pred=rf.predict(X_test)"
   ]
  },
  {
   "cell_type": "code",
   "execution_count": null,
   "id": "e647f387",
   "metadata": {
    "id": "e647f387",
    "outputId": "3474a34f-a206-487a-ce1b-ed6ba4cc213c"
   },
   "outputs": [
    {
     "data": {
      "text/plain": [
       "array([[210, 648, 659],\n",
       "       [288, 649, 520],\n",
       "       [  0,   0,   0],\n",
       "       ...,\n",
       "       [136, 881, 939],\n",
       "       [218, 385, 353],\n",
       "       [  0,   0,   0]], dtype=int64)"
      ]
     },
     "execution_count": 58,
     "metadata": {},
     "output_type": "execute_result"
    }
   ],
   "source": [
    "\n",
    "\n",
    "\n",
    "\n",
    "\n",
    "\n",
    "\n",
    "\n",
    "\n",
    "\n",
    "\n",
    "\n",
    "y_pred"
   ]
  },
  {
   "cell_type": "code",
   "execution_count": null,
   "id": "f7c21a96",
   "metadata": {
    "id": "f7c21a96",
    "outputId": "5f6c959a-eac1-421e-ba51-62bf3db5774c"
   },
   "outputs": [
    {
     "name": "stdout",
     "output_type": "stream",
     "text": [
      "[210, 288, 0, 0, 231, 0, 0, 0, 0, 0, 0, 0, 179, 0, 0, 0, 0, 0, 0, 173, 19, 184, 0, 0, 133, 0, 168, 0, 0, 243, 0, 317, 0, 145, 0, 0, 0, 0, 241, 0, 293, 0, 0, 218, 48, 5, 205, 0, 0, 0, 0, 252, 104, 211, 0, 0, 0, 0, 91, 0, 0, 111, 0, 0, 0, 0, 0, 8, 22, 0, 0, 249, 0, 0, 134, 0, 0, 434, 228, 0, 0, 169, 0, 0, 55, 0, 0, 0, 245, 0, 114, 0, 0, 120, 0, 70, 0, 102, 91, 0, 78, 0, 0, 0, 301, 0, 0, 139, 179, 0, 187, 0, 0, 0, 226, 0, 0, 93, 28, 9, 0, 22, 0, 282, 0, 229, 179, 143, 249, 231, 45, 63, 271, 0, 0, 258, 40, 370, 220, 0, 0, 0, 0, 0, 0, 338, 183, 225, 115, 0, 28, 0, 253, 186, 200, 0, 0, 0, 229, 281, 0, 0, 0, 0, 180, 0, 0, 0, 77, 323, 0, 239, 0, 0, 291, 0, 0, 12, 157, 0, 0, 209, 189, 0, 0, 0, 108, 0, 204, 0, 191, 0, 149, 0, 0, 208, 0, 0, 0, 0, 0, 196, 0, 97, 0, 184, 0, 212, 0, 0, 268, 0, 0, 0, 0, 0, 0, 0, 0, 0, 141, 237, 0, 69, 0, 0, 163, 0, 0, 203, 120, 0, 0, 15, 218, 0, 0, 114, 0, 0, 0, 78, 257, 0, 161, 220, 0, 92, 0, 205, 81, 142, 287, 0, 0, 0, 182, 222, 0, 198, 0, 0, 0, 247, 0, 177, 0, 112, 199, 0, 259, 0, 235, 90, 268, 169, 0, 0, 223, 194, 159, 171, 196, 235, 304, 0, 110, 323, 284, 0, 116, 0, 0, 0, 111, 292, 0, 0, 150, 134, 0, 0, 461, 160, 0, 0, 0, 0, 244, 229, 239, 233, 0, 0, 108, 49, 168, 291, 57, 0, 142, 38, 0, 0, 168, 322, 69, 0, 0, 0, 235, 0, 0, 0, 0, 0, 0, 0, 60, 0, 0, 216, 0, 105, 235, 0, 0, 126, 26, 55, 75, 194, 6, 288, 163, 0, 289, 0, 207, 140, 34, 0, 176, 177, 306, 191, 243, 0, 47, 0, 0, 131, 99, 0, 0, 243, 15, 0, 256, 0, 0, 235, 0, 0, 10, 314, 0, 159, 268, 0, 0, 0, 0, 276, 397, 137, 0, 0, 0, 0, 377, 4, 211, 250, 161, 270, 175, 88, 0, 62, 0, 117, 160, 0, 0, 242, 0, 0, 0, 145, 0, 161, 0, 0, 0, 59, 42, 285, 225, 252, 211, 0, 272, 0, 0, 0, 0, 415, 0, 0, 0, 0, 225, 0, 31, 67, 0, 0, 0, 244, 0, 0, 68, 0, 0, 0, 0, 0, 0, 266, 0, 0, 197, 0, 0, 0, 231, 107, 0, 152, 0, 268, 0, 0, 0, 168, 0, 225, 0, 0, 0, 0, 200, 187, 0, 197, 0, 131, 0, 0, 114, 0, 239, 186, 119, 0, 0, 309, 221, 201, 0, 0, 0, 203, 25, 0, 118, 0, 0, 203, 144, 0, 149, 0, 160, 23, 0, 0, 117, 0, 0, 0, 17, 186, 0, 158, 0, 159, 45, 176, 0, 100, 0, 0, 0, 0, 170, 0, 283, 0, 115, 0, 0, 58, 0, 0, 0, 151, 207, 288, 0, 0, 0, 0, 110, 0, 139, 45, 0, 0, 10, 170, 0, 219, 71, 265, 0, 248, 0, 0, 213, 138, 31, 0, 0, 0, 10, 0, 0, 0, 279, 0, 0, 0, 133, 192, 0, 211, 157, 0, 0, 0, 0, 236, 0, 0, 193, 0, 0, 0, 311, 0, 0, 309, 0, 0, 0, 232, 0, 81, 0, 244, 0, 0, 170, 0, 0, 0, 295, 0, 243, 262, 232, 265, 0, 225, 32, 0, 0, 0, 0, 0, 0, 195, 0, 0, 0, 0, 296, 0, 0, 0, 245, 162, 30, 0, 251, 150, 0, 74, 0, 0, 0, 0, 215, 248, 293, 0, 0, 284, 0, 0, 0, 233, 65, 0, 135, 0, 256, 0, 0, 0, 0, 0, 0, 0, 0, 0, 193, 93, 31, 0, 0, 0, 159, 163, 0, 0, 202, 289, 0, 0, 0, 0, 102, 211, 0, 242, 91, 0, 290, 0, 0, 209, 302, 236, 0, 296, 0, 52, 0, 90, 0, 0, 0, 0, 0, 0, 0, 239, 188, 188, 20, 0, 103, 275, 0, 0, 0, 0, 60, 0, 0, 253, 0, 0, 0, 0, 184, 252, 0, 242, 134, 0, 143, 0, 0, 0, 0, 0, 31, 142, 4, 97, 184, 0, 184, 0, 0, 0, 0, 120, 194, 0, 0, 228, 0, 0, 0, 0, 0, 299, 0, 249, 278, 0, 0, 0, 225, 225, 194, 34, 234, 0, 0, 0, 0, 264, 217, 160, 0, 0, 42, 202, 0, 214, 0, 0, 0, 136, 0, 116, 0, 0, 0, 115, 53, 241, 292, 0, 0, 18, 0, 0, 183, 131, 218, 284, 242, 0, 277, 262, 0, 0, 0, 158, 0, 0, 0, 172, 98, 0, 93, 134, 311, 190, 140, 0, 0, 0, 0, 89, 275, 0, 0, 0, 230, 0, 218, 0, 218, 77, 13, 297, 0, 239, 263, 0, 0, 184, 127, 0, 108, 116, 0, 0, 0, 0, 78, 0, 255, 0, 0, 0, 257, 0, 140, 223, 0, 0, 0, 241, 0, 0, 0, 131, 0, 0, 0, 0, 0, 76, 257, 0, 0, 0, 0, 0, 0, 0, 120, 0, 145, 0, 0, 195, 279, 0, 0, 0, 122, 188, 241, 55, 268, 157, 0, 279, 62, 0, 102, 0, 0, 0, 0, 278, 0, 0, 0, 0, 0, 0, 0, 0, 0, 178, 114, 13, 56, 96, 0, 237, 0, 0, 0, 0, 0, 0, 0, 0, 252, 0, 0, 152, 62, 0, 163, 279, 176, 0, 230, 0, 4, 0, 0, 65, 0, 0, 0, 0, 0, 0, 167, 212, 0, 0, 0, 0, 0, 188, 0, 128, 232, 0, 0, 0, 0, 302, 0, 0, 158, 0, 0, 152, 200, 0, 434, 0, 285, 128, 0, 0, 157, 207, 92, 141, 0, 0, 0, 0, 252, 127, 0, 110, 0, 0, 209, 38, 0, 293, 0, 202, 190, 46, 0, 185, 0, 0, 0, 0, 0, 0, 0, 173, 230, 0, 0, 0, 0, 196, 172, 452, 0, 41, 0, 0, 13, 0, 279, 0, 0, 0, 251, 0, 0, 0, 0, 0, 0, 0, 78, 0, 160, 0, 0, 0, 0, 0, 184, 193, 0, 0, 245, 0, 0, 92, 0, 229, 0, 0, 140, 0, 0, 0, 191, 0, 0, 0, 142, 0, 0, 0, 0, 247, 35, 138, 0, 0, 302, 0, 0, 0, 0, 0, 231, 311, 174, 0, 238, 218, 312, 0, 139, 0, 0, 0, 228, 0, 87, 0, 0, 0, 0, 255, 0, 0, 257, 0, 0, 136, 311, 0, 242, 204, 192, 0, 256, 66, 81, 0, 0, 0, 0, 276, 0, 0, 0, 0, 248, 170, 0, 0, 0, 0, 0, 0, 0, 284, 0, 371, 92, 224, 85, 157, 102, 0, 0, 0, 235, 334, 47, 60, 0, 218, 86, 79, 168, 236, 0, 0, 225, 0, 204, 0, 0, 0, 0, 0, 400, 0, 4, 61, 0, 176, 0, 0, 165, 0, 0, 240, 0, 0, 0, 158, 199, 87, 233, 64, 0, 0, 0, 0, 0, 78, 0, 5, 0, 46, 0, 0, 0, 170, 0, 281, 0, 159, 0, 105, 0, 115, 0, 63, 0, 154, 44, 293, 0, 128, 0, 0, 95, 0, 0, 0, 113, 0, 0, 62, 0, 5, 0, 215, 0, 182, 0, 108, 0, 0, 0, 0, 0, 62, 246, 169, 0, 0, 0, 160, 0, 275, 70, 307, 66, 0, 299, 0, 0, 34, 0, 0, 46, 42, 34, 0, 244, 0, 281, 0, 52, 315, 269, 0, 0, 0, 0, 174, 12, 107, 208, 136, 0, 0, 259, 6, 0, 0, 0, 296, 10, 0, 0, 69, 0, 46, 0, 65, 0, 0, 242, 0, 0, 229, 64, 0, 0, 232, 0, 0, 0, 0, 0, 0, 194, 0, 271, 253, 84, 0, 0, 0, 0, 0, 322, 0, 163, 194, 0, 0, 0, 222, 0, 0, 0, 53, 89, 0, 271, 137, 0, 0, 286, 0, 0, 0, 136, 315, 0, 303, 0, 0, 371, 219, 0, 136, 149, 189, 125, 0, 159, 148, 0, 0, 63, 0, 0, 9, 188, 0, 0, 0, 9, 382, 201, 310, 0, 0, 0, 177, 0, 0, 0, 0, 252, 0, 0, 0, 0, 0, 0, 224, 252, 0, 104, 115, 0, 0, 0, 223, 0, 31, 0, 0, 0, 37, 0, 4, 0, 0, 0, 49, 0, 201, 204, 192, 239, 90, 184, 0, 242, 0, 0, 0, 0, 0, 161, 0, 0, 256, 99, 235, 37, 0, 0, 0, 0, 142, 0, 0, 0, 0, 206, 7, 0, 136, 0, 240, 294, 115, 0, 0, 215, 264, 0, 262, 0, 228, 13, 264, 0, 0, 271, 271, 127, 0, 0, 233, 258, 0, 0, 0, 0, 0, 252, 0, 0, 0, 0, 0, 0, 0, 213, 0, 191, 169, 333, 0, 0, 70, 0, 0, 5, 0, 123, 0, 32, 0, 198, 0, 193, 153, 214, 264, 179, 280, 0, 288, 0, 172, 264, 0, 0, 0, 0, 0, 243, 0, 174, 0, 0, 0, 207, 6, 0, 0, 0, 77, 0, 0, 165, 0, 0, 0, 17, 0, 169, 0, 0, 0, 0, 0, 0, 52, 0, 100, 172, 0, 0, 0, 0, 0, 0, 316, 0, 196, 0, 79, 0, 222, 0, 0, 207, 0, 0, 0, 0, 186, 262, 0, 0, 0, 102, 34, 0, 71, 179, 37, 107, 0, 133, 0, 0, 259, 266, 0, 163, 0, 253, 0, 0, 0, 0, 0, 0, 57, 38, 0, 0, 0, 142, 0, 0, 266, 0, 0, 245, 0, 78, 182, 191, 0, 403, 0, 0, 0, 0, 297, 0, 192, 73, 0, 190, 232, 214, 229, 0, 0, 0, 250, 0, 205, 0, 214, 224, 0, 181, 239, 304, 0, 0, 0, 0, 0, 166, 0, 275, 136, 0, 12, 0, 0, 0, 0, 135, 0, 0, 0, 79, 0, 0, 24, 58, 0, 165, 215, 132, 0, 0, 247, 0, 62, 408, 256, 30, 338, 0, 0, 105, 0, 0, 0, 0, 91, 0, 147, 0, 0, 311, 0, 0, 0, 79, 0, 0, 196, 5, 0, 0, 163, 207, 0, 0, 0, 0, 0, 247, 306, 0, 0, 159, 0, 116, 0, 0, 0, 0, 0, 296, 0, 0, 250, 256, 0, 0, 0, 0, 0, 138, 212, 165, 0, 185, 168, 78, 0, 0, 0, 0, 0, 224, 94, 252, 193, 0, 0, 0, 0, 0, 189, 0, 262, 177, 222, 46, 248, 0, 0, 9, 0, 0, 0, 202, 0, 0, 99, 194, 0, 253, 296, 28, 0, 0, 11, 51, 274, 221, 13, 0, 0, 0, 237, 181, 0, 0, 0, 0, 0, 0, 248, 0, 387, 0, 15, 0, 0, 0, 82, 164, 0, 0, 0, 127, 0, 171, 0, 231, 114, 0, 0, 42, 178, 103, 174, 240, 202, 0, 0, 227, 102, 0, 0, 0, 0, 228, 174, 248, 0, 0, 0, 238, 0, 36, 0, 0, 0, 0, 0, 0, 0, 240, 0, 0, 0, 335, 0, 67, 60, 0, 140, 0, 110, 207, 0, 185, 0, 0, 0, 127, 276, 0, 0, 217, 0, 206, 0, 157, 205, 239, 7, 253, 206, 190, 0, 62, 0, 88, 0, 0, 0, 62, 208, 0, 0, 109, 243, 0, 281, 23, 0, 0, 0, 0, 0, 0, 0, 0, 0, 154, 36, 246, 0, 0, 0, 0, 140, 0, 0, 0, 0, 152, 0, 87, 0, 240, 0, 0, 0, 238, 0, 202, 0, 0, 137, 162, 164, 28, 0, 0, 0, 106, 0, 0, 46, 100, 0, 0, 235, 62, 194, 0, 226, 0, 0, 0, 0, 0, 59, 82, 165, 0, 0, 84, 0, 0, 0, 0, 0, 176, 200, 0, 0, 0, 62, 0, 0, 174, 141, 0, 372, 0, 0, 0, 107, 0, 10, 218, 271, 237, 136, 218, 0]\n"
     ]
    }
   ],
   "source": [
    "y1=[]\n",
    "for i in range(len(y_pred)):\n",
    "    y1.append(y_pred[i][0])\n",
    "print(y1)"
   ]
  },
  {
   "cell_type": "code",
   "execution_count": null,
   "id": "501e3061",
   "metadata": {
    "id": "501e3061"
   },
   "outputs": [],
   "source": [
    "y_test1=y_test['Clearsky DHI']"
   ]
  },
  {
   "cell_type": "code",
   "execution_count": null,
   "id": "50f5dfe4",
   "metadata": {
    "id": "50f5dfe4",
    "outputId": "836d2900-04fd-44a4-ba3a-0a412d9bdee0"
   },
   "outputs": [
    {
     "data": {
      "text/plain": [
       "6252    213\n",
       "4684    294\n",
       "1731      0\n",
       "4742      0\n",
       "4521    237\n",
       "       ... \n",
       "6412    273\n",
       "8285    241\n",
       "7853    136\n",
       "1095    207\n",
       "6929      0\n",
       "Name: Clearsky DHI, Length: 2000, dtype: int64"
      ]
     },
     "execution_count": 61,
     "metadata": {},
     "output_type": "execute_result"
    }
   ],
   "source": [
    "y_test1"
   ]
  },
  {
   "cell_type": "code",
   "execution_count": null,
   "id": "2d248dd9",
   "metadata": {
    "id": "2d248dd9"
   },
   "outputs": [],
   "source": [
    "from sklearn.metrics import mean_absolute_percentage_error"
   ]
  },
  {
   "cell_type": "code",
   "execution_count": null,
   "id": "ef99f528",
   "metadata": {
    "id": "ef99f528"
   },
   "outputs": [],
   "source": [
    "err=mean_absolute_percentage_error(y_test1, y1)"
   ]
  },
  {
   "cell_type": "code",
   "execution_count": null,
   "id": "30f9c43d",
   "metadata": {
    "id": "30f9c43d",
    "outputId": "e35de016-d11b-4506-d7ae-56bec9cc0e6a"
   },
   "outputs": [
    {
     "data": {
      "text/plain": [
       "0.03870010077409"
      ]
     },
     "execution_count": 64,
     "metadata": {},
     "output_type": "execute_result"
    }
   ],
   "source": [
    "err"
   ]
  },
  {
   "cell_type": "code",
   "execution_count": null,
   "id": "18d5d452",
   "metadata": {
    "id": "18d5d452"
   },
   "outputs": [],
   "source": [
    "from sklearn.metrics import mean_squared_error"
   ]
  },
  {
   "cell_type": "code",
   "execution_count": null,
   "id": "d85d3705",
   "metadata": {
    "id": "d85d3705",
    "outputId": "43932d7a-fc42-4ef7-f51a-323302eaf022"
   },
   "outputs": [
    {
     "data": {
      "text/plain": [
       "43.41"
      ]
     },
     "execution_count": 66,
     "metadata": {},
     "output_type": "execute_result"
    }
   ],
   "source": [
    "mean_squared_error(y_test1, y1)"
   ]
  },
  {
   "cell_type": "code",
   "execution_count": null,
   "id": "57a534d3",
   "metadata": {
    "id": "57a534d3",
    "outputId": "3f87fe75-ef2f-4c86-d5c2-0dbd9550113d"
   },
   "outputs": [
    {
     "data": {
      "text/plain": [
       "43.41"
      ]
     },
     "execution_count": 67,
     "metadata": {},
     "output_type": "execute_result"
    }
   ],
   "source": [
    "np.square(np.subtract(y_test1,y1)).mean()"
   ]
  },
  {
   "cell_type": "code",
   "execution_count": null,
   "id": "ad485ddd",
   "metadata": {
    "id": "ad485ddd"
   },
   "outputs": [],
   "source": []
  }
 ],
 "metadata": {
  "colab": {
   "provenance": []
  },
  "kernelspec": {
   "display_name": "Python 3 (ipykernel)",
   "language": "python",
   "name": "python3"
  },
  "language_info": {
   "codemirror_mode": {
    "name": "ipython",
    "version": 3
   },
   "file_extension": ".py",
   "mimetype": "text/x-python",
   "name": "python",
   "nbconvert_exporter": "python",
   "pygments_lexer": "ipython3",
   "version": "3.8.12"
  }
 },
 "nbformat": 4,
 "nbformat_minor": 5
}
